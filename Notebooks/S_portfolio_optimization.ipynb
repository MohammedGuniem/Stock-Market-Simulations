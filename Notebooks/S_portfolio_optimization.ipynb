{
 "cells": [
  {
   "cell_type": "markdown",
   "id": "26549aca-4c40-472f-8d30-d15ff81224f8",
   "metadata": {},
   "source": [
    "<h1>Portfolio Optimization</h1>"
   ]
  },
  {
   "cell_type": "markdown",
   "id": "fdc38822-a0b0-4374-a2b6-c7e850672f92",
   "metadata": {},
   "source": [
    "<p>We learned how to calculate the main metrics to analyze and evaluate a portfolio of stocks.</p>\n",
    "\n",
    "<p>Now we can use the power of Python to optimize a portfolio!</p>\n",
    "    \n",
    "<p>Portfolio optimization is the technique of allocating assets so that it has the maximum return and minimum risk.<br/>\n",
    "This can be done by finding the allocation that results in the maximum Sharpe ratio.</p>\n",
    "\n",
    "<p>The simplest way to find the best allocation is to check many random allocations and find the one that has the best Sharpe ratio.</p>\n",
    "\n",
    "<p>This process of randomly guessing is known as a Monte Carlo Simulation which uses random weights to find the optimal combination of stock weights which has the best sharpe ratio. </p>"
   ]
  },
  {
   "cell_type": "markdown",
   "id": "79954c41-3a49-4717-99d0-04abeb26fe55",
   "metadata": {},
   "source": [
    "<h4>To get started, let's define the initial stocks, download their price data, and calculate the daily returns.</h4>"
   ]
  },
  {
   "cell_type": "code",
   "execution_count": 1,
   "id": "f21a3183-b90c-4f9d-9964-dcd7231ebeca",
   "metadata": {},
   "outputs": [],
   "source": [
    "from IPython.display import display\n",
    "import matplotlib.pyplot as plt\n",
    "import yfinance as yf\n",
    "import numpy as np\n",
    "import pandas as pd"
   ]
  },
  {
   "cell_type": "code",
   "execution_count": 2,
   "id": "4e74bcf4-d9c4-4fb6-98af-0c13418a6f83",
   "metadata": {},
   "outputs": [
    {
     "name": "stderr",
     "output_type": "stream",
     "text": [
      "[*********************100%%**********************]  4 of 4 completed\n",
      "C:\\Users\\mghun\\AppData\\Local\\Temp\\ipykernel_13928\\2922841695.py:7: FutureWarning: The default fill_method='pad' in DataFrame.pct_change is deprecated and will be removed in a future version. Either fill in any non-leading NA values prior to calling pct_change or specify 'fill_method=None' to not fill NA values.\n",
      "  x = data.pct_change()\n"
     ]
    },
    {
     "data": {
      "text/html": [
       "<div>\n",
       "<style scoped>\n",
       "    .dataframe tbody tr th:only-of-type {\n",
       "        vertical-align: middle;\n",
       "    }\n",
       "\n",
       "    .dataframe tbody tr th {\n",
       "        vertical-align: top;\n",
       "    }\n",
       "\n",
       "    .dataframe thead th {\n",
       "        text-align: right;\n",
       "    }\n",
       "</style>\n",
       "<table border=\"1\" class=\"dataframe\">\n",
       "  <thead>\n",
       "    <tr style=\"text-align: right;\">\n",
       "      <th>Ticker</th>\n",
       "      <th>AAPL</th>\n",
       "      <th>AMZN</th>\n",
       "      <th>MSFT</th>\n",
       "      <th>TSLA</th>\n",
       "    </tr>\n",
       "    <tr>\n",
       "      <th>Date</th>\n",
       "      <th></th>\n",
       "      <th></th>\n",
       "      <th></th>\n",
       "      <th></th>\n",
       "    </tr>\n",
       "  </thead>\n",
       "  <tbody>\n",
       "    <tr>\n",
       "      <th>2018-01-02</th>\n",
       "      <td>NaN</td>\n",
       "      <td>NaN</td>\n",
       "      <td>NaN</td>\n",
       "      <td>NaN</td>\n",
       "    </tr>\n",
       "    <tr>\n",
       "      <th>2018-01-03</th>\n",
       "      <td>-0.000174</td>\n",
       "      <td>0.012775</td>\n",
       "      <td>0.004654</td>\n",
       "      <td>-0.010233</td>\n",
       "    </tr>\n",
       "    <tr>\n",
       "      <th>2018-01-04</th>\n",
       "      <td>0.004645</td>\n",
       "      <td>0.004476</td>\n",
       "      <td>0.008801</td>\n",
       "      <td>-0.008290</td>\n",
       "    </tr>\n",
       "    <tr>\n",
       "      <th>2018-01-05</th>\n",
       "      <td>0.011385</td>\n",
       "      <td>0.016163</td>\n",
       "      <td>0.012398</td>\n",
       "      <td>0.006230</td>\n",
       "    </tr>\n",
       "    <tr>\n",
       "      <th>2018-01-08</th>\n",
       "      <td>-0.003714</td>\n",
       "      <td>0.014425</td>\n",
       "      <td>0.001020</td>\n",
       "      <td>0.062638</td>\n",
       "    </tr>\n",
       "    <tr>\n",
       "      <th>...</th>\n",
       "      <td>...</td>\n",
       "      <td>...</td>\n",
       "      <td>...</td>\n",
       "      <td>...</td>\n",
       "    </tr>\n",
       "    <tr>\n",
       "      <th>2024-06-17</th>\n",
       "      <td>0.019671</td>\n",
       "      <td>0.002178</td>\n",
       "      <td>0.013105</td>\n",
       "      <td>0.052975</td>\n",
       "    </tr>\n",
       "    <tr>\n",
       "      <th>2024-06-18</th>\n",
       "      <td>-0.010984</td>\n",
       "      <td>-0.006791</td>\n",
       "      <td>-0.004528</td>\n",
       "      <td>-0.013764</td>\n",
       "    </tr>\n",
       "    <tr>\n",
       "      <th>2024-06-20</th>\n",
       "      <td>-0.021513</td>\n",
       "      <td>0.017997</td>\n",
       "      <td>-0.001434</td>\n",
       "      <td>-0.017797</td>\n",
       "    </tr>\n",
       "    <tr>\n",
       "      <th>2024-06-21</th>\n",
       "      <td>-0.010444</td>\n",
       "      <td>0.016013</td>\n",
       "      <td>0.009154</td>\n",
       "      <td>0.007931</td>\n",
       "    </tr>\n",
       "    <tr>\n",
       "      <th>2024-06-24</th>\n",
       "      <td>0.000000</td>\n",
       "      <td>-0.015866</td>\n",
       "      <td>0.000000</td>\n",
       "      <td>0.002677</td>\n",
       "    </tr>\n",
       "  </tbody>\n",
       "</table>\n",
       "<p>1629 rows × 4 columns</p>\n",
       "</div>"
      ],
      "text/plain": [
       "Ticker          AAPL      AMZN      MSFT      TSLA\n",
       "Date                                              \n",
       "2018-01-02       NaN       NaN       NaN       NaN\n",
       "2018-01-03 -0.000174  0.012775  0.004654 -0.010233\n",
       "2018-01-04  0.004645  0.004476  0.008801 -0.008290\n",
       "2018-01-05  0.011385  0.016163  0.012398  0.006230\n",
       "2018-01-08 -0.003714  0.014425  0.001020  0.062638\n",
       "...              ...       ...       ...       ...\n",
       "2024-06-17  0.019671  0.002178  0.013105  0.052975\n",
       "2024-06-18 -0.010984 -0.006791 -0.004528 -0.013764\n",
       "2024-06-20 -0.021513  0.017997 -0.001434 -0.017797\n",
       "2024-06-21 -0.010444  0.016013  0.009154  0.007931\n",
       "2024-06-24  0.000000 -0.015866  0.000000  0.002677\n",
       "\n",
       "[1629 rows x 4 columns]"
      ]
     },
     "metadata": {},
     "output_type": "display_data"
    }
   ],
   "source": [
    "stocks = ['AAPL', 'AMZN', 'MSFT', 'TSLA']\n",
    "\n",
    "data = yf.download(stocks, start='2018-01-01')\n",
    "\n",
    "#daily returns\n",
    "data = data['Close']\n",
    "x = data.pct_change()\n",
    "\n",
    "display(x)"
   ]
  },
  {
   "cell_type": "markdown",
   "id": "c182689d-19ad-4a4f-9f27-6c0b923cbea8",
   "metadata": {},
   "source": [
    "<h4>We need to store the weights, returns and Sharpe ratios for each portfolio</h4>\n",
    "<p>we will be checking so that we can then find the one that is best.</p>\n",
    "<p>we will define lists to store these values for each portfolio.</p>\n",
    "<p>[] defines an empty list.</p>"
   ]
  },
  {
   "cell_type": "code",
   "execution_count": 3,
   "id": "506c720c-adba-4de6-82aa-5a8403d494d5",
   "metadata": {},
   "outputs": [],
   "source": [
    "p_weights = []\n",
    "p_returns = []\n",
    "p_risk = []\n",
    "p_sharpe = []"
   ]
  },
  {
   "cell_type": "markdown",
   "id": "86556f83-cd22-44ef-9347-4eff889543e2",
   "metadata": {},
   "source": [
    "<h4>We are going to randomly assign a weight to each stock in our portfolio, and then calculate the metrics for that portfolio, including the Sharpe ratio.</h4>\n",
    "\n",
    "<p>To generate random weights, we will use the NumPy random function:</p>\n",
    "\n",
    "<p>We divide the resulting weights by their sum to normalize them, so that the sum of the random weights is always 1.</p>\n",
    "\n",
    "<p>Running the code below will generate random weights that sum up to 1.</p>"
   ]
  },
  {
   "cell_type": "code",
   "execution_count": 4,
   "id": "879248be-d5a5-480c-9fe3-4a5396d5755b",
   "metadata": {},
   "outputs": [
    {
     "name": "stdout",
     "output_type": "stream",
     "text": [
      "Random Weights:  [0.19030065 0.2698834  0.18191322 0.35790273]\n",
      "Sum of Random Weights:  1.0\n"
     ]
    }
   ],
   "source": [
    "wts = np.random.uniform(size = 4)\n",
    "wts = wts/np.sum(wts) \n",
    "\n",
    "print(\"Random Weights: \", wts)\n",
    "\n",
    "print(\"Sum of Random Weights: \", sum(wts))"
   ]
  },
  {
   "cell_type": "markdown",
   "id": "23f31408-f553-431e-8df5-bdb4d67916d4",
   "metadata": {},
   "source": [
    "<h4>Now we need to run a for loop, generate the random weights and calculate the returns, volatility and Sharpe ratio of the portfolio.</h4>\n",
    "<p>We already learned how to calculate these metrics in the notebook Q_analyzing_a_portfolio, so here comes the code:</p>"
   ]
  },
  {
   "cell_type": "code",
   "execution_count": 5,
   "id": "3957489d-e014-4b2c-b41e-9a02eb491edf",
   "metadata": {},
   "outputs": [],
   "source": [
    "count = 500\n",
    "for k in range(0, count):\n",
    "   wts = np.random.uniform(size = len(x.columns))\n",
    "   wts = wts/np.sum(wts)\n",
    "   p_weights.append(wts)\n",
    "\n",
    "   #returns\n",
    "   mean_ret = (x.mean() * wts).sum()*252\n",
    "   p_returns.append(mean_ret)\n",
    "\n",
    "   #volatility\n",
    "   ret = (x * wts).sum(axis = 1)\n",
    "   annual_std = np.std(ret) * np.sqrt(252)\n",
    "   p_risk.append(annual_std)\n",
    "    \n",
    "   #Sharpe ratio\n",
    "   sharpe = (np.mean(ret) / np.std(ret))*np.sqrt(252)\n",
    "   p_sharpe.append(sharpe)"
   ]
  },
  {
   "cell_type": "markdown",
   "id": "78cb732f-9099-41d8-bff7-0ad44a3d6380",
   "metadata": {},
   "source": [
    "<p>The for loop runs 500 times.</p>\n",
    "<p>During each iteration we calculate the metrics and store them in the corresponding lists using the append() function.</p>\n",
    "<p>We used 500 to optimize the time to run the code in our Playground. In other scenarios, you could generate thousands of portfolios, to get a better result.</p>"
   ]
  },
  {
   "cell_type": "markdown",
   "id": "14c2a95f-2693-4c81-926e-3c29e1172a32",
   "metadata": {},
   "source": [
    "<p>The code seems long and complex, however it simply calculates the metrics using their formulas that we have seen before, and stores them in the lists.</p>"
   ]
  },
  {
   "cell_type": "markdown",
   "id": "46adf89a-1619-4188-8e78-f1b45c5c48e1",
   "metadata": {},
   "source": [
    "<h4>We now have the metrics for 500 portfolios!</h4>\n",
    "<p>\n",
    "    Let's find the index of the portfolio with the maximum Sharpe ratio using the Numpy argmax() function and output the max Sharpe ratio and the weights:\n",
    "</p>\n",
    "\n",
    "<p>This portfolio results in the maximum Sharpe ratio.</p>"
   ]
  },
  {
   "cell_type": "code",
   "execution_count": 6,
   "id": "5c4a2aa8-ee20-4913-90e0-55c7bb960a7b",
   "metadata": {},
   "outputs": [
    {
     "name": "stdout",
     "output_type": "stream",
     "text": [
      "The maximum sharpe ratio:  1.1185801735079028\n",
      "The optimal stock weights that gives the maximum sharpe ratio:  ['AAPL', 'AMZN', 'MSFT', 'TSLA']\n",
      "The optimal stock weights that gives the maximum sharpe ratio:  [0.12461556 0.00668691 0.70687038 0.16182714]\n"
     ]
    }
   ],
   "source": [
    "max_ind = np.argmax(p_sharpe)\n",
    "\n",
    "# Max Sharpe ratio\n",
    "print(\"The maximum sharpe ratio: \", p_sharpe[max_ind])\n",
    "\n",
    "# Stocks\n",
    "print(\"The optimal stock weights that gives the maximum sharpe ratio: \", stocks)\n",
    "\n",
    "# Stock Weights\n",
    "print(\"The optimal stock weights that gives the maximum sharpe ratio: \", p_weights[max_ind])"
   ]
  },
  {
   "cell_type": "markdown",
   "id": "4420d9cc-13f1-4b7a-af08-406a2985b8bc",
   "metadata": {},
   "source": [
    "<h4>Let's draw a bar chart visualizing the weights:</h4>"
   ]
  },
  {
   "cell_type": "code",
   "execution_count": 7,
   "id": "7e318313-77ac-4626-be7d-6fa1fb1fdda1",
   "metadata": {},
   "outputs": [
    {
     "data": {
      "image/png": "[encoded data removed]",
      "text/plain": [
       "<Figure size 640x480 with 1 Axes>"
      ]
     },
     "metadata": {},
     "output_type": "display_data"
    }
   ],
   "source": [
    "s = pd.Series(p_weights[max_ind], index=x.columns)\n",
    "\n",
    "s.plot(kind='bar')\n",
    "\n",
    "plt.show()"
   ]
  },
  {
   "cell_type": "markdown",
   "id": "16cf7b0b-e88b-450d-8143-568b7e254dea",
   "metadata": {},
   "source": [
    "<p>You may get slightly different results each time you run the code, as the weights are randomly generated every time!</p>"
   ]
  },
  {
   "cell_type": "markdown",
   "id": "c4a6df83-81c4-49a9-9e72-118591174958",
   "metadata": {},
   "source": [
    "<h4>We found the best portfolio weights!</h4>\n",
    "<p>As a last step, let's plot all the 500 portfolios.</p>\n",
    "<p>The chart is called Efficient Frontier and shows the returns on the Y-axis and volatility on the X-axis.</p>"
   ]
  },
  {
   "cell_type": "code",
   "execution_count": 8,
   "id": "9419d8c3-c257-4fcd-aa74-bfe4363c4d6a",
   "metadata": {},
   "outputs": [
    {
     "data": {
      "image/png": "[encoded data removed]",
      "text/plain": [
       "<Figure size 640x480 with 2 Axes>"
      ]
     },
     "metadata": {},
     "output_type": "display_data"
    }
   ],
   "source": [
    "plt.scatter(p_risk, p_returns, c=p_sharpe, cmap='plasma')\n",
    "plt.colorbar(label='Sharpe Ratio')\n",
    "\n",
    "plt.scatter(p_risk[max_ind], p_returns[max_ind], color='r', marker='*', s=500)\n",
    "plt.show()\n",
    "\n",
    "plt.show()"
   ]
  },
  {
   "cell_type": "markdown",
   "id": "3d29d614-bf15-413a-a3b3-dde90a8beaf6",
   "metadata": {},
   "source": [
    "<p>We used additional parameters to make the chart prettier and add a color bar for the Sharpe ratio.</p>\n",
    "<p>We have also added a red star marker to the chart, showing the most efficient portfolio with the best Sharpe ratio.</p>"
   ]
  },
  {
   "cell_type": "markdown",
   "id": "3477264b-48c6-4b7b-88fd-24f0253c5ce5",
   "metadata": {},
   "source": [
    "<p>The Efficient Frontier chart shows the return we can get for the given volatility, or, the volatility that we get for a certain return.</p>"
   ]
  }
 ],
 "metadata": {
  "kernelspec": {
   "display_name": "Python 3 (ipykernel)",
   "language": "python",
   "name": "python3"
  },
  "language_info": {
   "codemirror_mode": {
    "name": "ipython",
    "version": 3
   },
   "file_extension": ".py",
   "mimetype": "text/x-python",
   "name": "python",
   "nbconvert_exporter": "python",
   "pygments_lexer": "ipython3",
   "version": "3.10.14"
  }
 },
 "nbformat": 4,
 "nbformat_minor": 5
}
