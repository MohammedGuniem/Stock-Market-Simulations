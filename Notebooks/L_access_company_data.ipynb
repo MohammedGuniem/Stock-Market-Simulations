{
 "cells": [
  {
   "cell_type": "markdown",
   "id": "fee92616-0338-4850-9e4c-a041188a86e1",
   "metadata": {},
   "source": [
    "<h1>Access Company Data</h1>"
   ]
  },
  {
   "cell_type": "code",
   "execution_count": 1,
   "id": "f0fcfc3b-0f34-4ed0-9f70-33f83701f457",
   "metadata": {},
   "outputs": [],
   "source": [
    "import yfinance as yf\n",
    "from IPython.display import display"
   ]
  },
  {
   "cell_type": "markdown",
   "id": "a2da535e-bd9a-4034-8ffd-c9af5dc280a0",
   "metadata": {},
   "source": [
    "<h5>We can use the yfinance package to access data on company investors.</h5>"
   ]
  },
  {
   "cell_type": "code",
   "execution_count": 2,
   "id": "08a149e4-6681-4b2d-bdbe-fd0eee360916",
   "metadata": {},
   "outputs": [],
   "source": [
    "data = yf.Ticker(\"TSLA\")"
   ]
  },
  {
   "cell_type": "markdown",
   "id": "6fc25fc2-7a1b-4757-b134-58730a3eaac7",
   "metadata": {},
   "source": [
    "<p>Let's output the list of Tesla's major holders:</p>"
   ]
  },
  {
   "cell_type": "code",
   "execution_count": 3,
   "id": "9e5d84fa-3546-4669-a550-082783fd3307",
   "metadata": {},
   "outputs": [
    {
     "data": {
      "text/html": [
       "<div>\n",
       "<style scoped>\n",
       "    .dataframe tbody tr th:only-of-type {\n",
       "        vertical-align: middle;\n",
       "    }\n",
       "\n",
       "    .dataframe tbody tr th {\n",
       "        vertical-align: top;\n",
       "    }\n",
       "\n",
       "    .dataframe thead th {\n",
       "        text-align: right;\n",
       "    }\n",
       "</style>\n",
       "<table border=\"1\" class=\"dataframe\">\n",
       "  <thead>\n",
       "    <tr style=\"text-align: right;\">\n",
       "      <th>Breakdown</th>\n",
       "      <th>Value</th>\n",
       "    </tr>\n",
       "  </thead>\n",
       "  <tbody>\n",
       "    <tr>\n",
       "      <th>insidersPercentHeld</th>\n",
       "      <td>0.12987</td>\n",
       "    </tr>\n",
       "    <tr>\n",
       "      <th>institutionsPercentHeld</th>\n",
       "      <td>0.45956</td>\n",
       "    </tr>\n",
       "    <tr>\n",
       "      <th>institutionsFloatPercentHeld</th>\n",
       "      <td>0.52815</td>\n",
       "    </tr>\n",
       "    <tr>\n",
       "      <th>institutionsCount</th>\n",
       "      <td>3674.00000</td>\n",
       "    </tr>\n",
       "  </tbody>\n",
       "</table>\n",
       "</div>"
      ],
      "text/plain": [
       "Breakdown                          Value\n",
       "insidersPercentHeld              0.12987\n",
       "institutionsPercentHeld          0.45956\n",
       "institutionsFloatPercentHeld     0.52815\n",
       "institutionsCount             3674.00000"
      ]
     },
     "metadata": {},
     "output_type": "display_data"
    }
   ],
   "source": [
    "display(data.major_holders)"
   ]
  },
  {
   "cell_type": "markdown",
   "id": "72c8bbf9-1c94-4bc9-a6ed-dcea4feab06e",
   "metadata": {},
   "source": [
    "<p>We can also get the list of the institutional holders:</p>"
   ]
  },
  {
   "cell_type": "code",
   "execution_count": 4,
   "id": "1f2a1652-46a1-4246-8af4-1d218180e6c3",
   "metadata": {},
   "outputs": [
    {
     "data": {
      "text/html": [
       "<div>\n",
       "<style scoped>\n",
       "    .dataframe tbody tr th:only-of-type {\n",
       "        vertical-align: middle;\n",
       "    }\n",
       "\n",
       "    .dataframe tbody tr th {\n",
       "        vertical-align: top;\n",
       "    }\n",
       "\n",
       "    .dataframe thead th {\n",
       "        text-align: right;\n",
       "    }\n",
       "</style>\n",
       "<table border=\"1\" class=\"dataframe\">\n",
       "  <thead>\n",
       "    <tr style=\"text-align: right;\">\n",
       "      <th></th>\n",
       "      <th>Date Reported</th>\n",
       "      <th>Holder</th>\n",
       "      <th>pctHeld</th>\n",
       "      <th>Shares</th>\n",
       "      <th>Value</th>\n",
       "    </tr>\n",
       "  </thead>\n",
       "  <tbody>\n",
       "    <tr>\n",
       "      <th>0</th>\n",
       "      <td>2023-06-30</td>\n",
       "      <td>Vanguard Group Inc</td>\n",
       "      <td>0.0701</td>\n",
       "      <td>222486933</td>\n",
       "      <td>58240404451</td>\n",
       "    </tr>\n",
       "    <tr>\n",
       "      <th>1</th>\n",
       "      <td>2023-06-30</td>\n",
       "      <td>Blackrock Inc.</td>\n",
       "      <td>0.0586</td>\n",
       "      <td>185889398</td>\n",
       "      <td>48660267714</td>\n",
       "    </tr>\n",
       "    <tr>\n",
       "      <th>2</th>\n",
       "      <td>2023-06-30</td>\n",
       "      <td>State Street Corporation</td>\n",
       "      <td>0.0328</td>\n",
       "      <td>104115390</td>\n",
       "      <td>27254285640</td>\n",
       "    </tr>\n",
       "    <tr>\n",
       "      <th>3</th>\n",
       "      <td>2023-06-30</td>\n",
       "      <td>Geode Capital Management, LLC</td>\n",
       "      <td>0.0163</td>\n",
       "      <td>51656526</td>\n",
       "      <td>13522128811</td>\n",
       "    </tr>\n",
       "    <tr>\n",
       "      <th>4</th>\n",
       "      <td>2023-06-30</td>\n",
       "      <td>Capital World Investors</td>\n",
       "      <td>0.0133</td>\n",
       "      <td>42272512</td>\n",
       "      <td>11065675466</td>\n",
       "    </tr>\n",
       "    <tr>\n",
       "      <th>5</th>\n",
       "      <td>2023-06-30</td>\n",
       "      <td>FMR, LLC</td>\n",
       "      <td>0.0091</td>\n",
       "      <td>28771552</td>\n",
       "      <td>7531529167</td>\n",
       "    </tr>\n",
       "    <tr>\n",
       "      <th>6</th>\n",
       "      <td>2022-12-31</td>\n",
       "      <td>Norges Bank Investment Management</td>\n",
       "      <td>0.0088</td>\n",
       "      <td>28085245</td>\n",
       "      <td>3459540479</td>\n",
       "    </tr>\n",
       "    <tr>\n",
       "      <th>7</th>\n",
       "      <td>2023-06-30</td>\n",
       "      <td>Morgan Stanley</td>\n",
       "      <td>0.0088</td>\n",
       "      <td>27983350</td>\n",
       "      <td>7325201529</td>\n",
       "    </tr>\n",
       "    <tr>\n",
       "      <th>8</th>\n",
       "      <td>2023-06-30</td>\n",
       "      <td>Price (T.Rowe) Associates Inc</td>\n",
       "      <td>0.0088</td>\n",
       "      <td>27984161</td>\n",
       "      <td>7325413824</td>\n",
       "    </tr>\n",
       "    <tr>\n",
       "      <th>9</th>\n",
       "      <td>2023-06-30</td>\n",
       "      <td>JP Morgan Chase &amp; Company</td>\n",
       "      <td>0.0084</td>\n",
       "      <td>26739940</td>\n",
       "      <td>6999714093</td>\n",
       "    </tr>\n",
       "  </tbody>\n",
       "</table>\n",
       "</div>"
      ],
      "text/plain": [
       "  Date Reported                             Holder  pctHeld     Shares  \\\n",
       "0    2023-06-30                 Vanguard Group Inc   0.0701  222486933   \n",
       "1    2023-06-30                     Blackrock Inc.   0.0586  185889398   \n",
       "2    2023-06-30           State Street Corporation   0.0328  104115390   \n",
       "3    2023-06-30      Geode Capital Management, LLC   0.0163   51656526   \n",
       "4    2023-06-30            Capital World Investors   0.0133   42272512   \n",
       "5    2023-06-30                           FMR, LLC   0.0091   28771552   \n",
       "6    2022-12-31  Norges Bank Investment Management   0.0088   28085245   \n",
       "7    2023-06-30                     Morgan Stanley   0.0088   27983350   \n",
       "8    2023-06-30      Price (T.Rowe) Associates Inc   0.0088   27984161   \n",
       "9    2023-06-30          JP Morgan Chase & Company   0.0084   26739940   \n",
       "\n",
       "         Value  \n",
       "0  58240404451  \n",
       "1  48660267714  \n",
       "2  27254285640  \n",
       "3  13522128811  \n",
       "4  11065675466  \n",
       "5   7531529167  \n",
       "6   3459540479  \n",
       "7   7325201529  \n",
       "8   7325413824  \n",
       "9   6999714093  "
      ]
     },
     "metadata": {},
     "output_type": "display_data"
    }
   ],
   "source": [
    "display(data.institutional_holders)"
   ]
  },
  {
   "cell_type": "markdown",
   "id": "99415850-7491-4794-985a-0886457cc485",
   "metadata": {},
   "source": [
    "<p>\n",
    "These fields are actually DataFrames.<br/>\n",
    "This means that you can use all the DataFrame functions and filtering options on the data.<br/>\n",
    "For example, you can use .info() to see all the columns available in the DataFrame.\n",
    "</p>"
   ]
  },
  {
   "cell_type": "markdown",
   "id": "7e116827-d022-4da2-9794-4318e9e45356",
   "metadata": {},
   "source": [
    "<p>Output only the institutional investors of Tesla that have more than 90M shares.</p>"
   ]
  },
  {
   "cell_type": "code",
   "execution_count": 5,
   "id": "8c7601fb-6d12-4316-b520-9e8f42893c29",
   "metadata": {},
   "outputs": [
    {
     "data": {
      "text/html": [
       "<div>\n",
       "<style scoped>\n",
       "    .dataframe tbody tr th:only-of-type {\n",
       "        vertical-align: middle;\n",
       "    }\n",
       "\n",
       "    .dataframe tbody tr th {\n",
       "        vertical-align: top;\n",
       "    }\n",
       "\n",
       "    .dataframe thead th {\n",
       "        text-align: right;\n",
       "    }\n",
       "</style>\n",
       "<table border=\"1\" class=\"dataframe\">\n",
       "  <thead>\n",
       "    <tr style=\"text-align: right;\">\n",
       "      <th></th>\n",
       "      <th>Date Reported</th>\n",
       "      <th>Holder</th>\n",
       "      <th>pctHeld</th>\n",
       "      <th>Shares</th>\n",
       "      <th>Value</th>\n",
       "    </tr>\n",
       "  </thead>\n",
       "  <tbody>\n",
       "    <tr>\n",
       "      <th>0</th>\n",
       "      <td>2023-06-30</td>\n",
       "      <td>Vanguard Group Inc</td>\n",
       "      <td>0.0701</td>\n",
       "      <td>222486933</td>\n",
       "      <td>58240404451</td>\n",
       "    </tr>\n",
       "    <tr>\n",
       "      <th>1</th>\n",
       "      <td>2023-06-30</td>\n",
       "      <td>Blackrock Inc.</td>\n",
       "      <td>0.0586</td>\n",
       "      <td>185889398</td>\n",
       "      <td>48660267714</td>\n",
       "    </tr>\n",
       "    <tr>\n",
       "      <th>2</th>\n",
       "      <td>2023-06-30</td>\n",
       "      <td>State Street Corporation</td>\n",
       "      <td>0.0328</td>\n",
       "      <td>104115390</td>\n",
       "      <td>27254285640</td>\n",
       "    </tr>\n",
       "  </tbody>\n",
       "</table>\n",
       "</div>"
      ],
      "text/plain": [
       "  Date Reported                    Holder  pctHeld     Shares        Value\n",
       "0    2023-06-30        Vanguard Group Inc   0.0701  222486933  58240404451\n",
       "1    2023-06-30            Blackrock Inc.   0.0586  185889398  48660267714\n",
       "2    2023-06-30  State Street Corporation   0.0328  104115390  27254285640"
      ]
     },
     "metadata": {},
     "output_type": "display_data"
    }
   ],
   "source": [
    "x = data.institutional_holders\n",
    "display(x[x['Shares'] > 90000000])"
   ]
  },
  {
   "cell_type": "markdown",
   "id": "758c263c-563b-4d5b-a0a5-6b4fc7bcb76b",
   "metadata": {},
   "source": [
    "<p>The .recommendations field provides data on historic recommendations by investment banks.</p>"
   ]
  },
  {
   "cell_type": "code",
   "execution_count": 6,
   "id": "55697cca-f299-455c-8ead-b2ad5ebd22ed",
   "metadata": {},
   "outputs": [
    {
     "data": {
      "text/html": [
       "<div>\n",
       "<style scoped>\n",
       "    .dataframe tbody tr th:only-of-type {\n",
       "        vertical-align: middle;\n",
       "    }\n",
       "\n",
       "    .dataframe tbody tr th {\n",
       "        vertical-align: top;\n",
       "    }\n",
       "\n",
       "    .dataframe thead th {\n",
       "        text-align: right;\n",
       "    }\n",
       "</style>\n",
       "<table border=\"1\" class=\"dataframe\">\n",
       "  <thead>\n",
       "    <tr style=\"text-align: right;\">\n",
       "      <th></th>\n",
       "      <th>period</th>\n",
       "      <th>strongBuy</th>\n",
       "      <th>buy</th>\n",
       "      <th>hold</th>\n",
       "      <th>sell</th>\n",
       "      <th>strongSell</th>\n",
       "    </tr>\n",
       "  </thead>\n",
       "  <tbody>\n",
       "    <tr>\n",
       "      <th>0</th>\n",
       "      <td>0m</td>\n",
       "      <td>4</td>\n",
       "      <td>4</td>\n",
       "      <td>8</td>\n",
       "      <td>6</td>\n",
       "      <td>1</td>\n",
       "    </tr>\n",
       "    <tr>\n",
       "      <th>1</th>\n",
       "      <td>-1m</td>\n",
       "      <td>7</td>\n",
       "      <td>13</td>\n",
       "      <td>21</td>\n",
       "      <td>6</td>\n",
       "      <td>4</td>\n",
       "    </tr>\n",
       "    <tr>\n",
       "      <th>2</th>\n",
       "      <td>-2m</td>\n",
       "      <td>5</td>\n",
       "      <td>11</td>\n",
       "      <td>23</td>\n",
       "      <td>7</td>\n",
       "      <td>4</td>\n",
       "    </tr>\n",
       "    <tr>\n",
       "      <th>3</th>\n",
       "      <td>-3m</td>\n",
       "      <td>10</td>\n",
       "      <td>16</td>\n",
       "      <td>11</td>\n",
       "      <td>3</td>\n",
       "      <td>2</td>\n",
       "    </tr>\n",
       "  </tbody>\n",
       "</table>\n",
       "</div>"
      ],
      "text/plain": [
       "  period  strongBuy  buy  hold  sell  strongSell\n",
       "0     0m          4    4     8     6           1\n",
       "1    -1m          7   13    21     6           4\n",
       "2    -2m          5   11    23     7           4\n",
       "3    -3m         10   16    11     3           2"
      ]
     },
     "metadata": {},
     "output_type": "display_data"
    }
   ],
   "source": [
    "data = yf.Ticker(\"TSLA\")\n",
    "x = data.recommendations\n",
    "display(x)"
   ]
  },
  {
   "cell_type": "markdown",
   "id": "c875b69c-0cc4-49bb-9959-a8dba4c94d6c",
   "metadata": {},
   "source": [
    "<p>\n",
    "Let's apply what we've learned: create a function that will take a ticker as its parameter,<br/>\n",
    "and output the ROE value for that ticker.<br/>\n",
    "This will allow you to compare the ROE values of different companies:<br/>\n",
    "</p>"
   ]
  },
  {
   "cell_type": "code",
   "execution_count": 7,
   "id": "a52c1670-f3be-474f-9aba-9ede560ff9c9",
   "metadata": {},
   "outputs": [
    {
     "name": "stdout",
     "output_type": "stream",
     "text": [
      "Apple Inc. : 1.4725\n",
      "Microsoft Corporation : 0.38487998\n"
     ]
    }
   ],
   "source": [
    "def RoE(ticker):\n",
    "  data = yf.Ticker(ticker)\n",
    "  roe = data.info['returnOnEquity']\n",
    "  name = data.info['shortName']\n",
    "  print(name, \":\", roe)\n",
    "\n",
    "RoE('AAPL')\n",
    "RoE('MSFT')"
   ]
  }
 ],
 "metadata": {
  "kernelspec": {
   "display_name": "Python 3 (ipykernel)",
   "language": "python",
   "name": "python3"
  },
  "language_info": {
   "codemirror_mode": {
    "name": "ipython",
    "version": 3
   },
   "file_extension": ".py",
   "mimetype": "text/x-python",
   "name": "python",
   "nbconvert_exporter": "python",
   "pygments_lexer": "ipython3",
   "version": "3.12.3"
  }
 },
 "nbformat": 4,
 "nbformat_minor": 5
}
