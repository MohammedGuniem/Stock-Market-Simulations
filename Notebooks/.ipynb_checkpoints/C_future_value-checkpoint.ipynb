{
 "cells": [
  {
   "cell_type": "markdown",
   "id": "0a654360-cd3a-4569-919b-224f16265be0",
   "metadata": {},
   "source": [
    "<h1>Future Value</h1>"
   ]
  },
  {
   "cell_type": "markdown",
   "id": "01af9215-9d6f-4c6d-9416-bccc4c714698",
   "metadata": {},
   "source": [
    "<h4>\n",
    "    Let's assume you invest $1000 for 5 years at an annual return rate of 8%.\n",
    "    We need to calculate how much our investment will be worth after 5 years?\n",
    "</h4>"
   ]
  },
  {
   "cell_type": "markdown",
   "id": "146e7b5f-62c1-4a98-8444-cc5f8557b64c",
   "metadata": {},
   "source": [
    "<p>\n",
    "    We import the Numpy Financial package, and use its fv() function to calculate the future value based on the parameters.\n",
    "</p>"
   ]
  },
  {
   "cell_type": "code",
   "execution_count": 1,
   "id": "e243245c-43b0-41c4-b8e5-20945768087e",
   "metadata": {},
   "outputs": [],
   "source": [
    "import numpy_financial as npf"
   ]
  },
  {
   "cell_type": "markdown",
   "id": "0fb45c5a-c881-489c-bc08-574d252a1df7",
   "metadata": {},
   "source": [
    "<p>The interest rate is given as a decimal, 1 representing 100%, thus 0.08 corresponds to 8%.</p>\n",
    "<p>nper is the number of periods.</p>\n",
    "<p>pv is the present value, which in our case is an investment of $1000, thus the negative sign.</p>\n",
    "<p>pmt corresponds to periodic payments/investments, which in our case is 0.\n",
    "</p>"
   ]
  },
  {
   "cell_type": "code",
   "execution_count": 2,
   "id": "514dafbe-6bd6-4abc-bb32-aeeed88626db",
   "metadata": {},
   "outputs": [
    {
     "name": "stdout",
     "output_type": "stream",
     "text": [
      "1469.3280768000006\n"
     ]
    }
   ],
   "source": [
    "res = npf.fv(rate=0.08, nper=5, pmt=0, pv=-1000)\n",
    "print(res)"
   ]
  }
 ],
 "metadata": {
  "kernelspec": {
   "display_name": "Python 3 (ipykernel)",
   "language": "python",
   "name": "python3"
  },
  "language_info": {
   "codemirror_mode": {
    "name": "ipython",
    "version": 3
   },
   "file_extension": ".py",
   "mimetype": "text/x-python",
   "name": "python",
   "nbconvert_exporter": "python",
   "pygments_lexer": "ipython3",
   "version": "3.10.14"
  }
 },
 "nbformat": 4,
 "nbformat_minor": 5
}
