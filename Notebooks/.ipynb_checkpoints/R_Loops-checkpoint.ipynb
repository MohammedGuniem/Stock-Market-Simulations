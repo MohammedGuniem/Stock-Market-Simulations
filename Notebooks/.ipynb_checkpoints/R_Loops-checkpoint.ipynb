{
 "cells": [
  {
   "cell_type": "markdown",
   "id": "1cd6ccb9-852f-4af8-bbfa-7c414c59a45f",
   "metadata": {},
   "source": [
    "<h1>Loops</h1>"
   ]
  },
  {
   "cell_type": "markdown",
   "id": "dd26de34-0fa1-48f2-b954-9189de7409bc",
   "metadata": {},
   "source": [
    "<p>Before we can do portfolio optimization, we need to learn about for loops and ranges.</p>\n",
    "<p>A loop allows you to run a block of code multiple times.<br/>\n",
    "Each time the code in a loop is executed, it is called an iteration.</p>\n",
    "<p>For example, we can use a for loop to iterate over an array and calculate the product of all elements:</p>"
   ]
  },
  {
   "cell_type": "code",
   "execution_count": 1,
   "id": "39f0f5ff-690e-4a10-9eb7-2a7185b19ff5",
   "metadata": {},
   "outputs": [
    {
     "name": "stdout",
     "output_type": "stream",
     "text": [
      "The product of the prices are:  240\n"
     ]
    }
   ],
   "source": [
    "prices = [3, 5, 2, 8]\n",
    " \n",
    "prod = 1\n",
    "for p in prices:\n",
    "  prod = prod * p\n",
    "\n",
    "print(\"The product of the prices are: \", prod)"
   ]
  },
  {
   "cell_type": "markdown",
   "id": "bd7b4ea2-70ba-4ee8-b5e2-0133b595e0ab",
   "metadata": {},
   "source": [
    "<p>The code creates a variable named prod, which will store the result and initialize it to 1.</p>\n",
    "<p>Next, during each iteration of the for loop, the prod variable is multiplied by the current item of the array:</p>\n",
    "\n",
    "<p>Note the syntax of the for loop: it uses a temporary variable, which represents the current item of the array. We named it p, but you could name it anything you like.</p>\n",
    "<p>\n",
    "    The for loop starts with a colon :.<br/>\n",
    "    After that, the code that belongs to the for loop needs to be indented with spaces.<br/>\n",
    "    That's how Python understands which block of code belongs to the for loop.\n",
    "</p>"
   ]
  },
  {
   "cell_type": "markdown",
   "id": "f9aa4398-0c62-41f8-affc-197cf25f415f",
   "metadata": {},
   "source": [
    "<h4>Ranges</h4>\n",
    "<p>If you need to run a for loop a given number of times, you can use a range.</p>\n",
    "\n",
    "<p>What is a range? It is a function that is used to create sequences.\n",
    "For example, the following range creates a sequence of numbers from 0 to 10:</p>"
   ]
  },
  {
   "cell_type": "code",
   "execution_count": 2,
   "id": "3c770966-7434-4db9-8c40-a80452a5d6ed",
   "metadata": {},
   "outputs": [
    {
     "name": "stdout",
     "output_type": "stream",
     "text": [
      "[0, 1, 2, 3, 4, 5, 6, 7, 8, 9]\n"
     ]
    }
   ],
   "source": [
    "print(list(range(0, 10)))"
   ]
  },
  {
   "cell_type": "markdown",
   "id": "0f6b59ac-11a2-4ef4-8851-8d5f0ef84c04",
   "metadata": {},
   "source": [
    "<p>The parameters specify the start and end of the sequence.</p>\n",
    "<p>Note that the end parameter is not included in the resulting sequence, while the start parameter is included.</p>"
   ]
  },
  {
   "cell_type": "markdown",
   "id": "12ff2ccc-677c-45b9-afdb-638135ce4533",
   "metadata": {},
   "source": [
    "<h4>Ranges and Loops</h4>\n",
    "<p>\n",
    "    When we have a range, we can use the for loop to run over that range.<br/>\n",
    "    For example, the following code will output 'hello!' 5 times:\n",
    "</p>"
   ]
  },
  {
   "cell_type": "code",
   "execution_count": 3,
   "id": "b76b478f-5e8c-4cac-9ef9-7b93cbcfef54",
   "metadata": {},
   "outputs": [
    {
     "name": "stdout",
     "output_type": "stream",
     "text": [
      "hello!\n",
      "hello!\n",
      "hello!\n",
      "hello!\n",
      "hello!\n"
     ]
    }
   ],
   "source": [
    "for i in range(0, 5):\n",
    "   print(\"hello!\") "
   ]
  },
  {
   "cell_type": "markdown",
   "id": "d8c573ed-7466-4f59-bb3c-44d6c33feea1",
   "metadata": {},
   "source": [
    "<p>for loops with ranges allow you to execute a block of code a specific number of times.</p>\n",
    "<p>We will use this technique in the next lesson, while performing Portfolio Optimization!</p>"
   ]
  }
 ],
 "metadata": {
  "kernelspec": {
   "display_name": "Python 3 (ipykernel)",
   "language": "python",
   "name": "python3"
  },
  "language_info": {
   "codemirror_mode": {
    "name": "ipython",
    "version": 3
   },
   "file_extension": ".py",
   "mimetype": "text/x-python",
   "name": "python",
   "nbconvert_exporter": "python",
   "pygments_lexer": "ipython3",
   "version": "3.10.14"
  }
 },
 "nbformat": 4,
 "nbformat_minor": 5
}
