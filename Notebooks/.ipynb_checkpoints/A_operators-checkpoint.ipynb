{
 "cells": [
  {
   "cell_type": "markdown",
   "id": "3fd5d2e4-08f6-4eb7-8d7f-22040b7f3d21",
   "metadata": {},
   "source": [
    "<h1>Operators</h1>"
   ]
  },
  {
   "cell_type": "markdown",
   "id": "a1fe8afa-53e2-4b78-9d90-894d1d823094",
   "metadata": {},
   "source": [
    "<h3>Define variables</h3>"
   ]
  },
  {
   "cell_type": "code",
   "execution_count": 1,
   "id": "d20dcd0c-aebc-4b48-9b4f-d9877fca1be0",
   "metadata": {},
   "outputs": [],
   "source": [
    "x = 9\n",
    "y = 5"
   ]
  },
  {
   "cell_type": "markdown",
   "id": "affaac0d-d8c8-417a-828b-e720a2c9c272",
   "metadata": {},
   "source": [
    "<h3>Multiplication</h3>"
   ]
  },
  {
   "cell_type": "code",
   "execution_count": 2,
   "id": "4da24d8f-4374-4db9-93d4-69ecb6813c4a",
   "metadata": {},
   "outputs": [
    {
     "name": "stdout",
     "output_type": "stream",
     "text": [
      "45\n"
     ]
    }
   ],
   "source": [
    "print(x * y)"
   ]
  },
  {
   "cell_type": "markdown",
   "id": "0cf454a6-5362-4268-bc03-72d56cc3389c",
   "metadata": {},
   "source": [
    "<h3>Division</h3>"
   ]
  },
  {
   "cell_type": "code",
   "execution_count": 3,
   "id": "e96cbfb9-031f-4d83-aa8c-4d6f7ce19573",
   "metadata": {},
   "outputs": [
    {
     "name": "stdout",
     "output_type": "stream",
     "text": [
      "1.8\n"
     ]
    }
   ],
   "source": [
    "print(x / y)"
   ]
  },
  {
   "cell_type": "markdown",
   "id": "31efc1ed-e2cf-4967-8b8f-66f77bc47340",
   "metadata": {},
   "source": [
    "<h3>Exponentiation: raise one number to the power of another</h3>"
   ]
  },
  {
   "cell_type": "code",
   "execution_count": 4,
   "id": "38dfbbf4-280d-4efc-82bd-d01ca80e2a81",
   "metadata": {},
   "outputs": [
    {
     "name": "stdout",
     "output_type": "stream",
     "text": [
      "59049\n"
     ]
    }
   ],
   "source": [
    "print(x ** y)"
   ]
  },
  {
   "cell_type": "markdown",
   "id": "4ec617b7-30c2-4827-b032-ae0e1074938b",
   "metadata": {},
   "source": [
    "<h3>Quotient: the quantity produced by the division of two numbers</h3>"
   ]
  },
  {
   "cell_type": "code",
   "execution_count": 5,
   "id": "3d48d37a-9ae9-4d8f-b134-3f7c170e2f41",
   "metadata": {},
   "outputs": [
    {
     "name": "stdout",
     "output_type": "stream",
     "text": [
      "1\n"
     ]
    }
   ],
   "source": [
    "print(x // y)"
   ]
  },
  {
   "cell_type": "markdown",
   "id": "20107fc5-5b0a-432d-8e56-96c7d8adbccb",
   "metadata": {},
   "source": [
    "<h3>Remainder</h3>"
   ]
  },
  {
   "cell_type": "code",
   "execution_count": 6,
   "id": "360ce5da-ec16-412f-b347-94ce37f45edf",
   "metadata": {},
   "outputs": [
    {
     "name": "stdout",
     "output_type": "stream",
     "text": [
      "4\n"
     ]
    }
   ],
   "source": [
    "print(x % y)"
   ]
  }
 ],
 "metadata": {
  "kernelspec": {
   "display_name": "Python 3 (ipykernel)",
   "language": "python",
   "name": "python3"
  },
  "language_info": {
   "codemirror_mode": {
    "name": "ipython",
    "version": 3
   },
   "file_extension": ".py",
   "mimetype": "text/x-python",
   "name": "python",
   "nbconvert_exporter": "python",
   "pygments_lexer": "ipython3",
   "version": "3.10.14"
  }
 },
 "nbformat": 4,
 "nbformat_minor": 5
}
