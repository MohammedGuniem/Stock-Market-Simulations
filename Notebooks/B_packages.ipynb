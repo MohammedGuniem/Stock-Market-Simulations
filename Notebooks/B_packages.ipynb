{
 "cells": [
  {
   "cell_type": "markdown",
   "id": "b36fae06-73ff-41a4-a75f-7a3c0b32edd7",
   "metadata": {},
   "source": [
    "<h1>Packages</h1>"
   ]
  },
  {
   "cell_type": "markdown",
   "id": "08811b53-427c-4447-a30c-ff75eb730541",
   "metadata": {},
   "source": [
    "<h3>Square Root</h3>"
   ]
  },
  {
   "cell_type": "code",
   "execution_count": 1,
   "id": "73b641ac-1129-4a0a-acde-0a4125c73718",
   "metadata": {},
   "outputs": [
    {
     "name": "stdout",
     "output_type": "stream",
     "text": [
      "4.0\n"
     ]
    }
   ],
   "source": [
    "import math as m\n",
    "\n",
    "x = m.sqrt(16)\n",
    "print(x)"
   ]
  }
 ],
 "metadata": {
  "kernelspec": {
   "display_name": "Python 3 (ipykernel)",
   "language": "python",
   "name": "python3"
  },
  "language_info": {
   "codemirror_mode": {
    "name": "ipython",
    "version": 3
   },
   "file_extension": ".py",
   "mimetype": "text/x-python",
   "name": "python",
   "nbconvert_exporter": "python",
   "pygments_lexer": "ipython3",
   "version": "3.10.14"
  }
 },
 "nbformat": 4,
 "nbformat_minor": 5
}
