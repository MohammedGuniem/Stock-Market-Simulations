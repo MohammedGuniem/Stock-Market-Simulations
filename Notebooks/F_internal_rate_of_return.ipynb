{
 "cells": [
  {
   "cell_type": "markdown",
   "id": "bb4baa9b-d1d9-4dcb-920b-f3598f00dea0",
   "metadata": {},
   "source": [
    "<h1>Internal Rate of Return</h1>"
   ]
  },
  {
   "cell_type": "code",
   "execution_count": 1,
   "id": "6852dc4f-0561-4d32-aed5-766cdb7bfdcb",
   "metadata": {},
   "outputs": [],
   "source": [
    "import numpy_financial as npf"
   ]
  },
  {
   "cell_type": "markdown",
   "id": "18e753f2",
   "metadata": {},
   "source": [
    "<p>Let's assume we invested 5000 and got the following payments back: 500, 700, 1000, 3000.</p>\n",
    "<p>We can calculate the internal rate of return of this cashflow:</p>"
   ]
  },
  {
   "cell_type": "code",
   "execution_count": 2,
   "id": "8ef4c01d",
   "metadata": {},
   "outputs": [
    {
     "name": "stdout",
     "output_type": "stream",
     "text": [
      "The Internal Rate of Return:  0.012164656866492818\n"
     ]
    }
   ],
   "source": [
    "cashflow = [-5000, 500, 700, 1000, 3000]\n",
    "print(\"The Internal Rate of Return: \", npf.irr(cashflow))"
   ]
  },
  {
   "cell_type": "markdown",
   "id": "4eebb86a-46ae-4805-814b-1237a8bcdf37",
   "metadata": {},
   "source": [
    "<h3>Cashflow Comparsion based on Internal Rate of return</h3>\n",
    "\n",
    "<p>Let's use the irr() function to compare two investment opportunities and decide which one is better?</p>\n",
    "<p>\n",
    "    Option 1:<br/>\n",
    "    Requires 50K in investment<br/>\n",
    "    Will pay 10K, 25K, 25K, 35K, 42K each year for the next 5 years.<br/>\n",
    "</p>\n",
    "<p>\n",
    "    Option 2:<br/>\n",
    "    Requires 30K in investment<br/>\n",
    "    Will pay 10K, 13K, 18K, 25K, 20K each year for the next 5 years.<br/>\n",
    "</p>\n",
    "<p>Let's calculate the IRR for each investment and compare:</p>"
   ]
  },
  {
   "cell_type": "code",
   "execution_count": 3,
   "id": "5ca2fefd",
   "metadata": {},
   "outputs": [
    {
     "name": "stdout",
     "output_type": "stream",
     "text": [
      "Option 1:  0.3605982754620043\n",
      "Option 2:  0.4094208743397143\n",
      "Option 2 is better because it has a higher IRR\n"
     ]
    }
   ],
   "source": [
    "cf1 = [-50000, 10000, 25000, 25000, 35000, 42000]\n",
    "cf2 = [-30000, 10000, 13000, 18000, 25000, 20000]\n",
    "\n",
    "print(\"Option 1: \", npf.irr(cf1))\n",
    "print(\"Option 2: \", npf.irr(cf2))\n",
    "print(\"Option 2 is better because it has a higher IRR\")"
   ]
  }
 ],
 "metadata": {
  "kernelspec": {
   "display_name": "Python 3 (ipykernel)",
   "language": "python",
   "name": "python3"
  },
  "language_info": {
   "codemirror_mode": {
    "name": "ipython",
    "version": 3
   },
   "file_extension": ".py",
   "mimetype": "text/x-python",
   "name": "python",
   "nbconvert_exporter": "python",
   "pygments_lexer": "ipython3",
   "version": "3.12.3"
  }
 },
 "nbformat": 4,
 "nbformat_minor": 5
}
