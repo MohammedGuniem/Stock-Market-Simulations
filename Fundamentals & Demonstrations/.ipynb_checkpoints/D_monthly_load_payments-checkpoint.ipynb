{
 "cells": [
  {
   "cell_type": "markdown",
   "id": "668a9710-69d9-4429-ad26-ab0e4bd6cefb",
   "metadata": {},
   "source": [
    "<h1>Monthly Load Payments</h1>"
   ]
  },
  {
   "cell_type": "markdown",
   "id": "4b1d65ff-d73a-4906-9eba-4e2930d6563a",
   "metadata": {},
   "source": [
    "<p>Let's say we want to calculate how much we have to pay monthly to pay back a loan of 100,000 in 5 years.</p>\n",
    "\n",
    "<p>The yearly interest rate is 7%, and is calculated monthly.</p>"
   ]
  },
  {
   "cell_type": "code",
   "execution_count": 1,
   "id": "e93ff488-bc3e-47e3-9f07-883466d8f80b",
   "metadata": {},
   "outputs": [
    {
     "name": "stdout",
     "output_type": "stream",
     "text": [
      "-1980.1198540349467\n"
     ]
    }
   ],
   "source": [
    "import numpy_financial as npf\n",
    "\n",
    "res = npf.pmt(rate=0.07 / 12, nper=5 * 12, pv=100000, fv=0)\n",
    "print(res)"
   ]
  },
  {
   "cell_type": "markdown",
   "id": "61d1c0cf-e225-4376-9f8d-99001d459647",
   "metadata": {},
   "source": [
    "<p>Note that aside from computing a monthly mortgage payment, \n",
    "the pmt() function can be used to return the periodic deposit one must make to achieve a specified future balance \n",
    "with a given interest rate.</p>"
   ]
  },
  {
   "cell_type": "code",
   "execution_count": 2,
   "id": "ee7ab9fd-1fb5-42b9-8edf-18f5467e07cd",
   "metadata": {},
   "outputs": [
    {
     "name": "stdout",
     "output_type": "stream",
     "text": [
      "-645.6855688967499\n"
     ]
    }
   ],
   "source": [
    "res = npf.pmt(rate=0.10/12, nper=5*12, pv=0, fv=50000)\n",
    "print(res)"
   ]
  }
 ],
 "metadata": {
  "kernelspec": {
   "display_name": "Python 3 (ipykernel)",
   "language": "python",
   "name": "python3"
  },
  "language_info": {
   "codemirror_mode": {
    "name": "ipython",
    "version": 3
   },
   "file_extension": ".py",
   "mimetype": "text/x-python",
   "name": "python",
   "nbconvert_exporter": "python",
   "pygments_lexer": "ipython3",
   "version": "3.12.4"
  }
 },
 "nbformat": 4,
 "nbformat_minor": 5
}
