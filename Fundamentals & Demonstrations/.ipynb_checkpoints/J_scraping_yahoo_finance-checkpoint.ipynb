{
 "cells": [
  {
   "cell_type": "markdown",
   "id": "848f8fb9-8297-478b-a4d1-12f593a2debe",
   "metadata": {},
   "source": [
    "<h1>Scraping Yahoo Finance</h1>"
   ]
  },
  {
   "cell_type": "markdown",
   "id": "58308e28-2c69-4da6-94b0-525bfd82c9b6",
   "metadata": {},
   "source": [
    "<p>We can scrape Tesla's profile page on yahoo finance:</p>"
   ]
  },
  {
   "cell_type": "markdown",
   "id": "c314ece1-7adf-41bc-86f3-ba3f0e577efa",
   "metadata": {},
   "source": [
    "<p>First we import pandas, requests, IPython.display and the matplotlib packages.</p>"
   ]
  },
  {
   "cell_type": "code",
   "execution_count": 1,
   "id": "7f8bd663-d28f-416d-bcfc-72c8d412cc46",
   "metadata": {},
   "outputs": [],
   "source": [
    "from IPython.display import display\n",
    "import matplotlib.pyplot as plt\n",
    "import pandas as pd\n",
    "import requests"
   ]
  },
  {
   "cell_type": "markdown",
   "id": "d1dd03f5-afbd-48cb-ac5d-1d9afde9fb9c",
   "metadata": {},
   "source": [
    "<p>Then we perform the scraping</p>"
   ]
  },
  {
   "cell_type": "code",
   "execution_count": 2,
   "id": "8995b644-3f28-425d-b8e7-8442ae82118d",
   "metadata": {},
   "outputs": [
    {
     "name": "stderr",
     "output_type": "stream",
     "text": [
      "C:\\Users\\mghun\\AppData\\Local\\Temp\\ipykernel_23168\\2796424831.py:7: FutureWarning: Passing literal html to 'read_html' is deprecated and will be removed in a future version. To read from a literal string, wrap it in a 'StringIO' object.\n",
      "  data = pd.read_html(r.text)\n"
     ]
    },
    {
     "data": {
      "text/html": [
       "<div>\n",
       "<style scoped>\n",
       "    .dataframe tbody tr th:only-of-type {\n",
       "        vertical-align: middle;\n",
       "    }\n",
       "\n",
       "    .dataframe tbody tr th {\n",
       "        vertical-align: top;\n",
       "    }\n",
       "\n",
       "    .dataframe thead th {\n",
       "        text-align: right;\n",
       "    }\n",
       "</style>\n",
       "<table border=\"1\" class=\"dataframe\">\n",
       "  <thead>\n",
       "    <tr style=\"text-align: right;\">\n",
       "      <th></th>\n",
       "      <th>Name</th>\n",
       "      <th>Title</th>\n",
       "      <th>Pay</th>\n",
       "      <th>Exercised</th>\n",
       "      <th>Year Born</th>\n",
       "    </tr>\n",
       "  </thead>\n",
       "  <tbody>\n",
       "    <tr>\n",
       "      <th>0</th>\n",
       "      <td>Mr. Elon R. Musk</td>\n",
       "      <td>Co-Founder, Technoking of Tesla, CEO &amp; Director</td>\n",
       "      <td>--</td>\n",
       "      <td>1.86M</td>\n",
       "      <td>1972</td>\n",
       "    </tr>\n",
       "    <tr>\n",
       "      <th>1</th>\n",
       "      <td>Mr. Vaibhav Taneja</td>\n",
       "      <td>Chief Financial Officer</td>\n",
       "      <td>278k</td>\n",
       "      <td>8.52M</td>\n",
       "      <td>1978</td>\n",
       "    </tr>\n",
       "    <tr>\n",
       "      <th>2</th>\n",
       "      <td>Mr. Xiaotong Zhu</td>\n",
       "      <td>Senior Vice President of Automotive</td>\n",
       "      <td>926.88k</td>\n",
       "      <td>--</td>\n",
       "      <td>1980</td>\n",
       "    </tr>\n",
       "    <tr>\n",
       "      <th>3</th>\n",
       "      <td>Mr. Martin Viecha</td>\n",
       "      <td>Vice President of Investor Relations</td>\n",
       "      <td>--</td>\n",
       "      <td>--</td>\n",
       "      <td>--</td>\n",
       "    </tr>\n",
       "    <tr>\n",
       "      <th>4</th>\n",
       "      <td>Brian Scelfo</td>\n",
       "      <td>Senior Director of Corporate Development</td>\n",
       "      <td>--</td>\n",
       "      <td>--</td>\n",
       "      <td>--</td>\n",
       "    </tr>\n",
       "    <tr>\n",
       "      <th>5</th>\n",
       "      <td>Mr. Franz von Holzhausen</td>\n",
       "      <td>Chief Designer</td>\n",
       "      <td>--</td>\n",
       "      <td>--</td>\n",
       "      <td>--</td>\n",
       "    </tr>\n",
       "    <tr>\n",
       "      <th>6</th>\n",
       "      <td>Mr. John Walker</td>\n",
       "      <td>Vice President of Sales - North America</td>\n",
       "      <td>121.55k</td>\n",
       "      <td>--</td>\n",
       "      <td>1963</td>\n",
       "    </tr>\n",
       "    <tr>\n",
       "      <th>7</th>\n",
       "      <td>Mr. Peter Bannon</td>\n",
       "      <td>Chip Architect</td>\n",
       "      <td>--</td>\n",
       "      <td>--</td>\n",
       "      <td>--</td>\n",
       "    </tr>\n",
       "    <tr>\n",
       "      <th>8</th>\n",
       "      <td>Mr. Turner Caldwell</td>\n",
       "      <td>Engineering Manager</td>\n",
       "      <td>--</td>\n",
       "      <td>--</td>\n",
       "      <td>--</td>\n",
       "    </tr>\n",
       "    <tr>\n",
       "      <th>9</th>\n",
       "      <td>Mr. Rodney D. Westmoreland Jr.</td>\n",
       "      <td>Director of Construction Management</td>\n",
       "      <td>--</td>\n",
       "      <td>--</td>\n",
       "      <td>--</td>\n",
       "    </tr>\n",
       "  </tbody>\n",
       "</table>\n",
       "</div>"
      ],
      "text/plain": [
       "                             Name  \\\n",
       "0                Mr. Elon R. Musk   \n",
       "1              Mr. Vaibhav Taneja   \n",
       "2                Mr. Xiaotong Zhu   \n",
       "3               Mr. Martin Viecha   \n",
       "4                    Brian Scelfo   \n",
       "5        Mr. Franz von Holzhausen   \n",
       "6                 Mr. John Walker   \n",
       "7                Mr. Peter Bannon   \n",
       "8             Mr. Turner Caldwell   \n",
       "9  Mr. Rodney D. Westmoreland Jr.   \n",
       "\n",
       "                                             Title      Pay Exercised  \\\n",
       "0  Co-Founder, Technoking of Tesla, CEO & Director       --     1.86M   \n",
       "1                          Chief Financial Officer     278k     8.52M   \n",
       "2              Senior Vice President of Automotive  926.88k        --   \n",
       "3             Vice President of Investor Relations       --        --   \n",
       "4         Senior Director of Corporate Development       --        --   \n",
       "5                                   Chief Designer       --        --   \n",
       "6          Vice President of Sales - North America  121.55k        --   \n",
       "7                                   Chip Architect       --        --   \n",
       "8                              Engineering Manager       --        --   \n",
       "9              Director of Construction Management       --        --   \n",
       "\n",
       "  Year Born  \n",
       "0      1972  \n",
       "1      1978  \n",
       "2      1980  \n",
       "3        --  \n",
       "4        --  \n",
       "5        --  \n",
       "6      1963  \n",
       "7        --  \n",
       "8        --  \n",
       "9        --  "
      ]
     },
     "metadata": {},
     "output_type": "display_data"
    }
   ],
   "source": [
    "url_link = 'https://finance.yahoo.com/quote/TSLA/profile'\n",
    "r = requests.get(\n",
    "    url_link,\n",
    "    headers={'User-Agent': 'Mozilla/5.0 (Windows NT 10.0; Win64; x64) AppleWebKit/537.36 (KHTML, like Gecko) '\n",
    "                           'Chrome/91.0.4472.124 Safari/537.36'}\n",
    ")\n",
    "data = pd.read_html(r.text)\n",
    "display(data[0])"
   ]
  },
  {
   "cell_type": "markdown",
   "id": "d438f6f0-c54c-4b80-afc9-9b92e76ed5ad",
   "metadata": {},
   "source": [
    "<p>\n",
    "    Now, we can access other financial metrics.<br/>\n",
    "    For example, let's scrape the Earnings Estimates from the Analysis page:\n",
    "</p>"
   ]
  },
  {
   "cell_type": "code",
   "execution_count": 3,
   "id": "731c50bf-f09d-4b07-9c3a-e3cee33f1088",
   "metadata": {},
   "outputs": [
    {
     "name": "stderr",
     "output_type": "stream",
     "text": [
      "C:\\Users\\mghun\\AppData\\Local\\Temp\\ipykernel_23168\\4196099802.py:7: FutureWarning: Passing literal html to 'read_html' is deprecated and will be removed in a future version. To read from a literal string, wrap it in a 'StringIO' object.\n",
      "  data = pd.read_html(r.text)\n"
     ]
    },
    {
     "data": {
      "text/html": [
       "<div>\n",
       "<style scoped>\n",
       "    .dataframe tbody tr th:only-of-type {\n",
       "        vertical-align: middle;\n",
       "    }\n",
       "\n",
       "    .dataframe tbody tr th {\n",
       "        vertical-align: top;\n",
       "    }\n",
       "\n",
       "    .dataframe thead th {\n",
       "        text-align: right;\n",
       "    }\n",
       "</style>\n",
       "<table border=\"1\" class=\"dataframe\">\n",
       "  <thead>\n",
       "    <tr style=\"text-align: right;\">\n",
       "      <th></th>\n",
       "      <th>CURRENCY IN USD</th>\n",
       "      <th>Current Qtr. (Jun 2024)</th>\n",
       "      <th>Next Qtr. (Sep 2024)</th>\n",
       "      <th>Current Year (2024)</th>\n",
       "      <th>Next Year (2025)</th>\n",
       "    </tr>\n",
       "  </thead>\n",
       "  <tbody>\n",
       "    <tr>\n",
       "      <th>0</th>\n",
       "      <td>No. of Analysts</td>\n",
       "      <td>28.00</td>\n",
       "      <td>27.00</td>\n",
       "      <td>34.00</td>\n",
       "      <td>35.00</td>\n",
       "    </tr>\n",
       "    <tr>\n",
       "      <th>1</th>\n",
       "      <td>Avg. Estimate</td>\n",
       "      <td>0.59</td>\n",
       "      <td>0.66</td>\n",
       "      <td>2.55</td>\n",
       "      <td>3.39</td>\n",
       "    </tr>\n",
       "    <tr>\n",
       "      <th>2</th>\n",
       "      <td>Low Estimate</td>\n",
       "      <td>0.41</td>\n",
       "      <td>0.37</td>\n",
       "      <td>1.73</td>\n",
       "      <td>1.60</td>\n",
       "    </tr>\n",
       "    <tr>\n",
       "      <th>3</th>\n",
       "      <td>High Estimate</td>\n",
       "      <td>0.87</td>\n",
       "      <td>1.01</td>\n",
       "      <td>3.41</td>\n",
       "      <td>5.84</td>\n",
       "    </tr>\n",
       "    <tr>\n",
       "      <th>4</th>\n",
       "      <td>Year Ago EPS</td>\n",
       "      <td>0.91</td>\n",
       "      <td>0.66</td>\n",
       "      <td>3.12</td>\n",
       "      <td>2.55</td>\n",
       "    </tr>\n",
       "  </tbody>\n",
       "</table>\n",
       "</div>"
      ],
      "text/plain": [
       "   CURRENCY IN USD  Current Qtr. (Jun 2024)  Next Qtr. (Sep 2024)  \\\n",
       "0  No. of Analysts                    28.00                 27.00   \n",
       "1    Avg. Estimate                     0.59                  0.66   \n",
       "2     Low Estimate                     0.41                  0.37   \n",
       "3    High Estimate                     0.87                  1.01   \n",
       "4     Year Ago EPS                     0.91                  0.66   \n",
       "\n",
       "   Current Year (2024)  Next Year (2025)  \n",
       "0                34.00             35.00  \n",
       "1                 2.55              3.39  \n",
       "2                 1.73              1.60  \n",
       "3                 3.41              5.84  \n",
       "4                 3.12              2.55  "
      ]
     },
     "metadata": {},
     "output_type": "display_data"
    }
   ],
   "source": [
    "url_link = 'https://finance.yahoo.com/quote/TSLA/analysis?p=TSLA'\n",
    "r = requests.get(\n",
    "    url_link,\n",
    "    headers={'User-Agent': 'Mozilla/5.0 (Windows NT 10.0; Win64; x64) AppleWebKit/537.36 (KHTML, like Gecko) '\n",
    "                           'Chrome/91.0.4472.124 Safari/537.36'}\n",
    ")\n",
    "data = pd.read_html(r.text)\n",
    "df = data[0]\n",
    "display(df)"
   ]
  },
  {
   "cell_type": "markdown",
   "id": "2157360c-04b6-4dc8-a72c-db6495637ada",
   "metadata": {},
   "source": [
    "<p>Now we can access the Avg. Estimate row from the table and plot it as a bar chart:</p>"
   ]
  },
  {
   "cell_type": "code",
   "execution_count": 4,
   "id": "dcbc9f87-51fb-4f0f-9975-d7ba49a10cb6",
   "metadata": {},
   "outputs": [
    {
     "data": {
      "text/html": [
       "<div>\n",
       "<style scoped>\n",
       "    .dataframe tbody tr th:only-of-type {\n",
       "        vertical-align: middle;\n",
       "    }\n",
       "\n",
       "    .dataframe tbody tr th {\n",
       "        vertical-align: top;\n",
       "    }\n",
       "\n",
       "    .dataframe thead th {\n",
       "        text-align: right;\n",
       "    }\n",
       "</style>\n",
       "<table border=\"1\" class=\"dataframe\">\n",
       "  <thead>\n",
       "    <tr style=\"text-align: right;\">\n",
       "      <th></th>\n",
       "      <th>CURRENCY IN USD</th>\n",
       "      <th>Current Qtr. (Jun 2024)</th>\n",
       "      <th>Next Qtr. (Sep 2024)</th>\n",
       "      <th>Current Year (2024)</th>\n",
       "      <th>Next Year (2025)</th>\n",
       "    </tr>\n",
       "  </thead>\n",
       "  <tbody>\n",
       "    <tr>\n",
       "      <th>1</th>\n",
       "      <td>Avg. Estimate</td>\n",
       "      <td>0.59</td>\n",
       "      <td>0.66</td>\n",
       "      <td>2.55</td>\n",
       "      <td>3.39</td>\n",
       "    </tr>\n",
       "  </tbody>\n",
       "</table>\n",
       "</div>"
      ],
      "text/plain": [
       "  CURRENCY IN USD  Current Qtr. (Jun 2024)  Next Qtr. (Sep 2024)  \\\n",
       "1   Avg. Estimate                     0.59                  0.66   \n",
       "\n",
       "   Current Year (2024)  Next Year (2025)  \n",
       "1                 2.55              3.39  "
      ]
     },
     "metadata": {},
     "output_type": "display_data"
    },
    {
     "data": {
      "image/png": "[encoded data removed]",
      "text/plain": [
       "<Figure size 640x480 with 1 Axes>"
      ]
     },
     "metadata": {},
     "output_type": "display_data"
    }
   ],
   "source": [
    "AvgEstimate = df[df[\"CURRENCY IN USD\"] == \"Avg. Estimate\"]\n",
    "\n",
    "# Select the first row of the filtered DataFrame (assuming you want to plot the first match)\n",
    "row_to_plot = AvgEstimate.iloc[0]\n",
    "\n",
    "# Drop the 'Company Name' column for the plot\n",
    "data_to_plot = row_to_plot.drop('CURRENCY IN USD')\n",
    "\n",
    "data_to_plot.plot(kind='bar', title=f'Avg. Estimate', ylabel='Values')\n",
    "display(AvgEstimate)"
   ]
  }
 ],
 "metadata": {
  "kernelspec": {
   "display_name": "Python 3 (ipykernel)",
   "language": "python",
   "name": "python3"
  },
  "language_info": {
   "codemirror_mode": {
    "name": "ipython",
    "version": 3
   },
   "file_extension": ".py",
   "mimetype": "text/x-python",
   "name": "python",
   "nbconvert_exporter": "python",
   "pygments_lexer": "ipython3",
   "version": "3.12.4"
  }
 },
 "nbformat": 4,
 "nbformat_minor": 5
}
