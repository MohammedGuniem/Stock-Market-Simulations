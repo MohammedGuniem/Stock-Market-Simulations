{
 "cells": [
  {
   "cell_type": "markdown",
   "id": "8352841d-39be-47ea-beaf-e573aa6cdece",
   "metadata": {},
   "source": [
    "<h1>Numpy Arrays</h1>"
   ]
  },
  {
   "cell_type": "markdown",
   "id": "7e59e73c-6051-42a2-9fa4-014b727547ac",
   "metadata": {},
   "source": [
    "<p>Import the numpy array package and define prices in an array</p>"
   ]
  },
  {
   "cell_type": "code",
   "execution_count": 1,
   "id": "13cdf21a-8cb6-4c6f-9050-a13cde5599bb",
   "metadata": {},
   "outputs": [],
   "source": [
    "import numpy as np\n",
    "\n",
    "prices = [50.5, 49.5, 25.1, 74.9]"
   ]
  },
  {
   "cell_type": "markdown",
   "id": "b4e79fe6-7bdb-48c1-bce9-0f0022eb00c7",
   "metadata": {},
   "source": [
    "<h3>mean - returns the average value of the array.</h3>"
   ]
  },
  {
   "cell_type": "code",
   "execution_count": 2,
   "id": "46b0aa1d-7bbf-49e8-b635-e01c65283fe6",
   "metadata": {},
   "outputs": [
    {
     "name": "stdout",
     "output_type": "stream",
     "text": [
      "50.0\n"
     ]
    }
   ],
   "source": [
    "print(np.mean(prices))"
   ]
  },
  {
   "cell_type": "markdown",
   "id": "9f9e5ea7-ad29-4a20-ac1d-beaccbcf5eb3",
   "metadata": {},
   "source": [
    "<h3>std - returns the standard deviation</h3>"
   ]
  },
  {
   "cell_type": "code",
   "execution_count": 3,
   "id": "58e6f1e3-b3b2-45f7-aa70-7c5900cc0fb4",
   "metadata": {},
   "outputs": [
    {
     "name": "stdout",
     "output_type": "stream",
     "text": [
      "17.61050822662424\n"
     ]
    }
   ],
   "source": [
    "print(np.std(prices))"
   ]
  },
  {
   "cell_type": "markdown",
   "id": "7eb3baef-f613-4056-afc5-8a78f6cdedee",
   "metadata": {},
   "source": [
    "<h3>sum - returns the sum of all values</h3>"
   ]
  },
  {
   "cell_type": "code",
   "execution_count": 4,
   "id": "d8098eba-4683-43e9-8d10-fbf7a95ba1a8",
   "metadata": {},
   "outputs": [
    {
     "name": "stdout",
     "output_type": "stream",
     "text": [
      "200.0\n"
     ]
    }
   ],
   "source": [
    "print(np.sum(prices))"
   ]
  },
  {
   "cell_type": "markdown",
   "id": "e6e6914a-3f2e-4bab-b2a0-4fd837e87644",
   "metadata": {},
   "source": [
    "<h3>max - returns the maximum value.</h3>"
   ]
  },
  {
   "cell_type": "code",
   "execution_count": 5,
   "id": "096265dc-9b4b-45a1-90a9-009b5015506c",
   "metadata": {},
   "outputs": [
    {
     "name": "stdout",
     "output_type": "stream",
     "text": [
      "74.9\n"
     ]
    }
   ],
   "source": [
    "print(np.max(prices))"
   ]
  }
 ],
 "metadata": {
  "kernelspec": {
   "display_name": "Python 3 (ipykernel)",
   "language": "python",
   "name": "python3"
  },
  "language_info": {
   "codemirror_mode": {
    "name": "ipython",
    "version": 3
   },
   "file_extension": ".py",
   "mimetype": "text/x-python",
   "name": "python",
   "nbconvert_exporter": "python",
   "pygments_lexer": "ipython3",
   "version": "3.12.4"
  }
 },
 "nbformat": 4,
 "nbformat_minor": 5
}
