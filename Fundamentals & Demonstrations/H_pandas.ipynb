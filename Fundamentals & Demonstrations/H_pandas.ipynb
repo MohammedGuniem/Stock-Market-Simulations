{
 "cells": [
  {
   "cell_type": "markdown",
   "id": "496bea07-4eff-46ef-a5fc-a05e854aea66",
   "metadata": {},
   "source": [
    "<h1>Pandas</h1>"
   ]
  },
  {
   "cell_type": "markdown",
   "id": "6d385762-65eb-43a1-bdef-143c48c2a7f5",
   "metadata": {},
   "source": [
    "<p>In short pandas dataframes are constructed of multiple pandas series, each column in the dataframe can be seen as a pandas series.</p>"
   ]
  },
  {
   "cell_type": "markdown",
   "id": "69897d25-1f37-48d4-876c-5a03baf0a778",
   "metadata": {},
   "source": [
    "<p>First we import pandas, and the IPython.display for pretty display of pandas dataframes.</p>"
   ]
  },
  {
   "cell_type": "code",
   "execution_count": 1,
   "id": "092c7aec-99c3-44c5-b0ee-8f7d545a1666",
   "metadata": {},
   "outputs": [],
   "source": [
    "import pandas as pd\n",
    "from IPython.display import display"
   ]
  },
  {
   "cell_type": "markdown",
   "id": "b0e5e03e-cb6c-44ab-9ea1-e8f08a94f014",
   "metadata": {},
   "source": [
    "<p>Then we declare a pandas series based on a prices list</p>"
   ]
  },
  {
   "cell_type": "code",
   "execution_count": 2,
   "id": "cef615c6-7122-41f4-83a3-fab104514649",
   "metadata": {},
   "outputs": [],
   "source": [
    "prices = [42.8, 102.03, 240.38, 80.9]\n",
    "s = pd.Series(prices)"
   ]
  },
  {
   "cell_type": "markdown",
   "id": "ed073554-abc2-4a4e-bfdb-1b9d36a61332",
   "metadata": {},
   "source": [
    "<p>Accessing the second element in array using s[1]:</p>"
   ]
  },
  {
   "cell_type": "code",
   "execution_count": 3,
   "id": "2994f64f-cf9f-463e-b565-70a4457b6e10",
   "metadata": {},
   "outputs": [
    {
     "name": "stdout",
     "output_type": "stream",
     "text": [
      "102.03\n"
     ]
    }
   ],
   "source": [
    "print(s[1])"
   ]
  },
  {
   "cell_type": "markdown",
   "id": "40b4fefa-0660-4e36-ad70-85c49aa0a67f",
   "metadata": {},
   "source": [
    "<p>Using the describe() function to see the key statistics:</p>"
   ]
  },
  {
   "cell_type": "code",
   "execution_count": 4,
   "id": "ed2061e3-c64f-496b-88ca-7e8a4f9a0dd1",
   "metadata": {},
   "outputs": [
    {
     "name": "stdout",
     "output_type": "stream",
     "text": [
      "count      4.000000\n",
      "mean     116.527500\n",
      "std       86.129132\n",
      "min       42.800000\n",
      "25%       71.375000\n",
      "50%       91.465000\n",
      "75%      136.617500\n",
      "max      240.380000\n",
      "dtype: float64\n"
     ]
    }
   ],
   "source": [
    "print(s.describe())"
   ]
  },
  {
   "cell_type": "markdown",
   "id": "e0d8fee8-fbba-4d15-ad92-24a69101dd54",
   "metadata": {},
   "source": [
    "<p>Getting the standard deviation:</p>"
   ]
  },
  {
   "cell_type": "code",
   "execution_count": 5,
   "id": "ea34ddf6-3cb1-4a1b-ab50-30723a352dc0",
   "metadata": {},
   "outputs": [
    {
     "name": "stdout",
     "output_type": "stream",
     "text": [
      "86.12913226661465\n"
     ]
    }
   ],
   "source": [
    "print(s.describe()[\"std\"])"
   ]
  },
  {
   "cell_type": "markdown",
   "id": "f541a293-69eb-472a-8dca-2ffa15265e06",
   "metadata": {},
   "source": [
    "<p>Creating a DataFrame, which holds prices and their corresponding dates:</p>"
   ]
  },
  {
   "cell_type": "code",
   "execution_count": 6,
   "id": "da3d155c-ab0a-4cae-a83b-4c91a8d4e622",
   "metadata": {},
   "outputs": [],
   "source": [
    "data = {\n",
    "  'date': ['2021-06-10', '2021-06-11', '2021-06-12', '2021-06-13'],\n",
    "  'prices': [42.8, 102.03, 240.38, 80.9]\n",
    "}\n",
    "df = pd.DataFrame(data)"
   ]
  },
  {
   "cell_type": "markdown",
   "id": "ae32eeac-f410-4222-9458-4e4fe49f98cc",
   "metadata": {},
   "source": [
    "<p>Displaying a dataframe</p>"
   ]
  },
  {
   "cell_type": "code",
   "execution_count": 7,
   "id": "d43b26ba-b07e-4c11-89b1-8a24eba6d4f0",
   "metadata": {},
   "outputs": [
    {
     "data": {
      "text/html": [
       "<div>\n",
       "<style scoped>\n",
       "    .dataframe tbody tr th:only-of-type {\n",
       "        vertical-align: middle;\n",
       "    }\n",
       "\n",
       "    .dataframe tbody tr th {\n",
       "        vertical-align: top;\n",
       "    }\n",
       "\n",
       "    .dataframe thead th {\n",
       "        text-align: right;\n",
       "    }\n",
       "</style>\n",
       "<table border=\"1\" class=\"dataframe\">\n",
       "  <thead>\n",
       "    <tr style=\"text-align: right;\">\n",
       "      <th></th>\n",
       "      <th>date</th>\n",
       "      <th>prices</th>\n",
       "    </tr>\n",
       "  </thead>\n",
       "  <tbody>\n",
       "    <tr>\n",
       "      <th>0</th>\n",
       "      <td>2021-06-10</td>\n",
       "      <td>42.80</td>\n",
       "    </tr>\n",
       "    <tr>\n",
       "      <th>1</th>\n",
       "      <td>2021-06-11</td>\n",
       "      <td>102.03</td>\n",
       "    </tr>\n",
       "    <tr>\n",
       "      <th>2</th>\n",
       "      <td>2021-06-12</td>\n",
       "      <td>240.38</td>\n",
       "    </tr>\n",
       "    <tr>\n",
       "      <th>3</th>\n",
       "      <td>2021-06-13</td>\n",
       "      <td>80.90</td>\n",
       "    </tr>\n",
       "  </tbody>\n",
       "</table>\n",
       "</div>"
      ],
      "text/plain": [
       "         date  prices\n",
       "0  2021-06-10   42.80\n",
       "1  2021-06-11  102.03\n",
       "2  2021-06-12  240.38\n",
       "3  2021-06-13   80.90"
      ]
     },
     "metadata": {},
     "output_type": "display_data"
    }
   ],
   "source": [
    "display(df)"
   ]
  }
 ],
 "metadata": {
  "kernelspec": {
   "display_name": "Python 3 (ipykernel)",
   "language": "python",
   "name": "python3"
  },
  "language_info": {
   "codemirror_mode": {
    "name": "ipython",
    "version": 3
   },
   "file_extension": ".py",
   "mimetype": "text/x-python",
   "name": "python",
   "nbconvert_exporter": "python",
   "pygments_lexer": "ipython3",
   "version": "3.12.4"
  }
 },
 "nbformat": 4,
 "nbformat_minor": 5
}
