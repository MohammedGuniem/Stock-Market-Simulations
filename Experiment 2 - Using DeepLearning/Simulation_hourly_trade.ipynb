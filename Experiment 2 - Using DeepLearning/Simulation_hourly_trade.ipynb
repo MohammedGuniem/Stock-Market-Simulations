{
 "cells": [
  {
   "cell_type": "markdown",
   "id": "7060ab09-ff76-4d19-bae0-1c922ebe7c14",
   "metadata": {},
   "source": [
    "### I - Importing needed libraries"
   ]
  },
  {
   "cell_type": "code",
   "execution_count": 1,
   "id": "eedc9d0a-3839-48ad-8642-0b75884d8529",
   "metadata": {},
   "outputs": [],
   "source": [
    "from sklearn.metrics import mean_squared_error, mean_absolute_error\n",
    "from tensorflow.keras.layers import LSTM, Dense, Input\n",
    "from sklearn.model_selection import train_test_split\n",
    "from sklearn.model_selection import TimeSeriesSplit\n",
    "from tensorflow.keras.models import Sequential\n",
    "from sklearn.preprocessing import MinMaxScaler\n",
    "import matplotlib.pyplot as plt\n",
    "from tensorflow import keras\n",
    "from pathlib import Path\n",
    "import tensorflow as tf\n",
    "import yfinance as yf\n",
    "import seaborn as sns\n",
    "import pandas as pd\n",
    "import numpy as np\n",
    "import os"
   ]
  },
  {
   "cell_type": "markdown",
   "id": "968b697b-4218-409b-90ca-f44c86cd4336",
   "metadata": {},
   "source": [
    "### II - Downloading data "
   ]
  },
  {
   "cell_type": "code",
   "execution_count": 2,
   "id": "6890ed56-3414-4875-a589-0359352b45e3",
   "metadata": {},
   "outputs": [
    {
     "name": "stdout",
     "output_type": "stream",
     "text": [
      "YF.download() has changed argument auto_adjust default to True\n"
     ]
    },
    {
     "name": "stderr",
     "output_type": "stream",
     "text": [
      "[*********************100%***********************]  1 of 1 completed\n"
     ]
    }
   ],
   "source": [
    "# Download historical stock data for a specific ticker\n",
    "ticker = 'AAPL'\n",
    "stock_data = yf.download(ticker, interval='1h', start='2023-03-08', end='2025-03-06')"
   ]
  },
  {
   "cell_type": "code",
   "execution_count": 3,
   "id": "111f784c-39a2-46e3-8c27-e04babf96ee7",
   "metadata": {},
   "outputs": [
    {
     "data": {
      "text/html": [
       "<div>\n",
       "<style scoped>\n",
       "    .dataframe tbody tr th:only-of-type {\n",
       "        vertical-align: middle;\n",
       "    }\n",
       "\n",
       "    .dataframe tbody tr th {\n",
       "        vertical-align: top;\n",
       "    }\n",
       "\n",
       "    .dataframe thead tr th {\n",
       "        text-align: left;\n",
       "    }\n",
       "\n",
       "    .dataframe thead tr:last-of-type th {\n",
       "        text-align: right;\n",
       "    }\n",
       "</style>\n",
       "<table border=\"1\" class=\"dataframe\">\n",
       "  <thead>\n",
       "    <tr>\n",
       "      <th>Price</th>\n",
       "      <th>Close</th>\n",
       "      <th>High</th>\n",
       "      <th>Low</th>\n",
       "      <th>Open</th>\n",
       "      <th>Volume</th>\n",
       "    </tr>\n",
       "    <tr>\n",
       "      <th>Ticker</th>\n",
       "      <th>AAPL</th>\n",
       "      <th>AAPL</th>\n",
       "      <th>AAPL</th>\n",
       "      <th>AAPL</th>\n",
       "      <th>AAPL</th>\n",
       "    </tr>\n",
       "    <tr>\n",
       "      <th>Datetime</th>\n",
       "      <th></th>\n",
       "      <th></th>\n",
       "      <th></th>\n",
       "      <th></th>\n",
       "      <th></th>\n",
       "    </tr>\n",
       "  </thead>\n",
       "  <tbody>\n",
       "    <tr>\n",
       "      <th>2023-03-08 14:30:00+00:00</th>\n",
       "      <td>152.639206</td>\n",
       "      <td>153.100006</td>\n",
       "      <td>151.830002</td>\n",
       "      <td>152.809998</td>\n",
       "      <td>12650535</td>\n",
       "    </tr>\n",
       "    <tr>\n",
       "      <th>2023-03-08 15:30:00+00:00</th>\n",
       "      <td>152.589996</td>\n",
       "      <td>153.210007</td>\n",
       "      <td>152.330002</td>\n",
       "      <td>152.639999</td>\n",
       "      <td>5894074</td>\n",
       "    </tr>\n",
       "    <tr>\n",
       "      <th>2023-03-08 16:30:00+00:00</th>\n",
       "      <td>152.750000</td>\n",
       "      <td>153.470001</td>\n",
       "      <td>152.350006</td>\n",
       "      <td>152.600006</td>\n",
       "      <td>5428318</td>\n",
       "    </tr>\n",
       "    <tr>\n",
       "      <th>2023-03-08 17:30:00+00:00</th>\n",
       "      <td>152.335007</td>\n",
       "      <td>153.054993</td>\n",
       "      <td>152.250000</td>\n",
       "      <td>152.729996</td>\n",
       "      <td>4530420</td>\n",
       "    </tr>\n",
       "    <tr>\n",
       "      <th>2023-03-08 18:30:00+00:00</th>\n",
       "      <td>152.800003</td>\n",
       "      <td>152.809998</td>\n",
       "      <td>152.050003</td>\n",
       "      <td>152.339996</td>\n",
       "      <td>3976027</td>\n",
       "    </tr>\n",
       "    <tr>\n",
       "      <th>...</th>\n",
       "      <td>...</td>\n",
       "      <td>...</td>\n",
       "      <td>...</td>\n",
       "      <td>...</td>\n",
       "      <td>...</td>\n",
       "    </tr>\n",
       "    <tr>\n",
       "      <th>2025-03-05 16:30:00+00:00</th>\n",
       "      <td>234.539902</td>\n",
       "      <td>234.649994</td>\n",
       "      <td>229.229996</td>\n",
       "      <td>230.619995</td>\n",
       "      <td>5831367</td>\n",
       "    </tr>\n",
       "    <tr>\n",
       "      <th>2025-03-05 17:30:00+00:00</th>\n",
       "      <td>234.679993</td>\n",
       "      <td>235.539993</td>\n",
       "      <td>234.000000</td>\n",
       "      <td>234.539993</td>\n",
       "      <td>3887648</td>\n",
       "    </tr>\n",
       "    <tr>\n",
       "      <th>2025-03-05 18:30:00+00:00</th>\n",
       "      <td>235.747498</td>\n",
       "      <td>236.550003</td>\n",
       "      <td>234.100006</td>\n",
       "      <td>234.665298</td>\n",
       "      <td>2837195</td>\n",
       "    </tr>\n",
       "    <tr>\n",
       "      <th>2025-03-05 19:30:00+00:00</th>\n",
       "      <td>236.039993</td>\n",
       "      <td>236.479996</td>\n",
       "      <td>235.149994</td>\n",
       "      <td>235.800003</td>\n",
       "      <td>3103634</td>\n",
       "    </tr>\n",
       "    <tr>\n",
       "      <th>2025-03-05 20:30:00+00:00</th>\n",
       "      <td>235.770004</td>\n",
       "      <td>236.350006</td>\n",
       "      <td>235.059998</td>\n",
       "      <td>236.009995</td>\n",
       "      <td>3864004</td>\n",
       "    </tr>\n",
       "  </tbody>\n",
       "</table>\n",
       "<p>3480 rows × 5 columns</p>\n",
       "</div>"
      ],
      "text/plain": [
       "Price                           Close        High         Low        Open  \\\n",
       "Ticker                           AAPL        AAPL        AAPL        AAPL   \n",
       "Datetime                                                                    \n",
       "2023-03-08 14:30:00+00:00  152.639206  153.100006  151.830002  152.809998   \n",
       "2023-03-08 15:30:00+00:00  152.589996  153.210007  152.330002  152.639999   \n",
       "2023-03-08 16:30:00+00:00  152.750000  153.470001  152.350006  152.600006   \n",
       "2023-03-08 17:30:00+00:00  152.335007  153.054993  152.250000  152.729996   \n",
       "2023-03-08 18:30:00+00:00  152.800003  152.809998  152.050003  152.339996   \n",
       "...                               ...         ...         ...         ...   \n",
       "2025-03-05 16:30:00+00:00  234.539902  234.649994  229.229996  230.619995   \n",
       "2025-03-05 17:30:00+00:00  234.679993  235.539993  234.000000  234.539993   \n",
       "2025-03-05 18:30:00+00:00  235.747498  236.550003  234.100006  234.665298   \n",
       "2025-03-05 19:30:00+00:00  236.039993  236.479996  235.149994  235.800003   \n",
       "2025-03-05 20:30:00+00:00  235.770004  236.350006  235.059998  236.009995   \n",
       "\n",
       "Price                        Volume  \n",
       "Ticker                         AAPL  \n",
       "Datetime                             \n",
       "2023-03-08 14:30:00+00:00  12650535  \n",
       "2023-03-08 15:30:00+00:00   5894074  \n",
       "2023-03-08 16:30:00+00:00   5428318  \n",
       "2023-03-08 17:30:00+00:00   4530420  \n",
       "2023-03-08 18:30:00+00:00   3976027  \n",
       "...                             ...  \n",
       "2025-03-05 16:30:00+00:00   5831367  \n",
       "2025-03-05 17:30:00+00:00   3887648  \n",
       "2025-03-05 18:30:00+00:00   2837195  \n",
       "2025-03-05 19:30:00+00:00   3103634  \n",
       "2025-03-05 20:30:00+00:00   3864004  \n",
       "\n",
       "[3480 rows x 5 columns]"
      ]
     },
     "metadata": {},
     "output_type": "display_data"
    }
   ],
   "source": [
    "display(stock_data)"
   ]
  },
  {
   "cell_type": "markdown",
   "id": "e1220e48-fe4c-41e7-8f6e-0b1d095cc4e1",
   "metadata": {},
   "source": [
    "### III - Evaluating LSTM model"
   ]
  },
  {
   "cell_type": "code",
   "execution_count": 4,
   "id": "1751fb96-d754-42d4-a80e-85652ea95cce",
   "metadata": {},
   "outputs": [],
   "source": [
    "features = stock_data[['High', 'Low', 'Close', 'Volume']]\n",
    "target = stock_data['Close']  # Predicting next time step close price"
   ]
  },
  {
   "cell_type": "code",
   "execution_count": 5,
   "id": "8a351526-0222-462a-bfac-dfc58c6b253a",
   "metadata": {},
   "outputs": [],
   "source": [
    "scaler = MinMaxScaler()"
   ]
  },
  {
   "cell_type": "code",
   "execution_count": 6,
   "id": "61c10ed5-c85c-481f-999a-1067ac501c37",
   "metadata": {},
   "outputs": [],
   "source": [
    "features_scaled = scaler.fit_transform(features)"
   ]
  },
  {
   "cell_type": "code",
   "execution_count": 7,
   "id": "a2ed3a7c-700d-4cb3-b774-6e6f0efceda8",
   "metadata": {},
   "outputs": [],
   "source": [
    "target_reshaped = target.values.reshape(-1, 1)"
   ]
  },
  {
   "cell_type": "code",
   "execution_count": 8,
   "id": "2ac5480c-8397-4c74-89b2-1850e484dd1d",
   "metadata": {},
   "outputs": [],
   "source": [
    "target_scaled = scaler.fit_transform(target_reshaped)"
   ]
  },
  {
   "cell_type": "code",
   "execution_count": 9,
   "id": "75bbc679-62d8-4d3a-b725-3180a54e65a1",
   "metadata": {},
   "outputs": [],
   "source": [
    "x = []\n",
    "y = []\n",
    "time_steps = 7\n",
    "\n",
    "for i in range(time_steps, len(features_scaled)):\n",
    "    x.append(features_scaled[i-time_steps:i])\n",
    "    y.append(target_scaled[i])\n",
    "\n",
    "X, y = np.array(x), np.array(y)"
   ]
  },
  {
   "cell_type": "code",
   "execution_count": 10,
   "id": "7828f0dd-ba47-4d81-9a32-43bf86719bc1",
   "metadata": {},
   "outputs": [],
   "source": [
    "# Function to build and train a Long Short Term Memory Deep Learning memory\n",
    "def build_model(X_train, y_train, verbose):\n",
    "    model = Sequential()\n",
    "    # Use Input layer to specify the shape\n",
    "    model.add(Input(shape=(X_train.shape[1], X_train.shape[2])))\n",
    "    # Add LSTM layer\n",
    "    model.add(LSTM(units=64, activation='relu'))\n",
    "    # Output layer\n",
    "    model.add(Dense(1))  # For regression (1 output)\n",
    "    # Print model summary\n",
    "    model.summary()\n",
    "    # Compile the model\n",
    "    model.compile(optimizer='adam', loss='mean_squared_error')\n",
    "    # Fit the model with the training data\n",
    "    history = model.fit(X_train, y_train, epochs=50, batch_size=32, validation_split=0.3, verbose=verbose)\n",
    "\n",
    "    return model"
   ]
  },
  {
   "cell_type": "code",
   "execution_count": 11,
   "id": "08959c3a-8e99-46aa-8a51-7aaa842e0f64",
   "metadata": {},
   "outputs": [
    {
     "name": "stdout",
     "output_type": "stream",
     "text": [
      "Running for 1-fold\n",
      "Spliting data...\n",
      "Building model...\n"
     ]
    },
    {
     "data": {
      "text/html": [
       "<pre style=\"white-space:pre;overflow-x:auto;line-height:normal;font-family:Menlo,'DejaVu Sans Mono',consolas,'Courier New',monospace\"><span style=\"font-weight: bold\">Model: \"sequential\"</span>\n",
       "</pre>\n"
      ],
      "text/plain": [
       "\u001b[1mModel: \"sequential\"\u001b[0m\n"
      ]
     },
     "metadata": {},
     "output_type": "display_data"
    },
    {
     "data": {
      "text/html": [
       "<pre style=\"white-space:pre;overflow-x:auto;line-height:normal;font-family:Menlo,'DejaVu Sans Mono',consolas,'Courier New',monospace\">┏━━━━━━━━━━━━━━━━━━━━━━━━━━━━━━━━━━━━━━┳━━━━━━━━━━━━━━━━━━━━━━━━━━━━━┳━━━━━━━━━━━━━━━━━┓\n",
       "┃<span style=\"font-weight: bold\"> Layer (type)                         </span>┃<span style=\"font-weight: bold\"> Output Shape                </span>┃<span style=\"font-weight: bold\">         Param # </span>┃\n",
       "┡━━━━━━━━━━━━━━━━━━━━━━━━━━━━━━━━━━━━━━╇━━━━━━━━━━━━━━━━━━━━━━━━━━━━━╇━━━━━━━━━━━━━━━━━┩\n",
       "│ lstm (<span style=\"color: #0087ff; text-decoration-color: #0087ff\">LSTM</span>)                          │ (<span style=\"color: #00d7ff; text-decoration-color: #00d7ff\">None</span>, <span style=\"color: #00af00; text-decoration-color: #00af00\">64</span>)                  │          <span style=\"color: #00af00; text-decoration-color: #00af00\">17,664</span> │\n",
       "├──────────────────────────────────────┼─────────────────────────────┼─────────────────┤\n",
       "│ dense (<span style=\"color: #0087ff; text-decoration-color: #0087ff\">Dense</span>)                        │ (<span style=\"color: #00d7ff; text-decoration-color: #00d7ff\">None</span>, <span style=\"color: #00af00; text-decoration-color: #00af00\">1</span>)                   │              <span style=\"color: #00af00; text-decoration-color: #00af00\">65</span> │\n",
       "└──────────────────────────────────────┴─────────────────────────────┴─────────────────┘\n",
       "</pre>\n"
      ],
      "text/plain": [
       "┏━━━━━━━━━━━━━━━━━━━━━━━━━━━━━━━━━━━━━━┳━━━━━━━━━━━━━━━━━━━━━━━━━━━━━┳━━━━━━━━━━━━━━━━━┓\n",
       "┃\u001b[1m \u001b[0m\u001b[1mLayer (type)                        \u001b[0m\u001b[1m \u001b[0m┃\u001b[1m \u001b[0m\u001b[1mOutput Shape               \u001b[0m\u001b[1m \u001b[0m┃\u001b[1m \u001b[0m\u001b[1m        Param #\u001b[0m\u001b[1m \u001b[0m┃\n",
       "┡━━━━━━━━━━━━━━━━━━━━━━━━━━━━━━━━━━━━━━╇━━━━━━━━━━━━━━━━━━━━━━━━━━━━━╇━━━━━━━━━━━━━━━━━┩\n",
       "│ lstm (\u001b[38;5;33mLSTM\u001b[0m)                          │ (\u001b[38;5;45mNone\u001b[0m, \u001b[38;5;34m64\u001b[0m)                  │          \u001b[38;5;34m17,664\u001b[0m │\n",
       "├──────────────────────────────────────┼─────────────────────────────┼─────────────────┤\n",
       "│ dense (\u001b[38;5;33mDense\u001b[0m)                        │ (\u001b[38;5;45mNone\u001b[0m, \u001b[38;5;34m1\u001b[0m)                   │              \u001b[38;5;34m65\u001b[0m │\n",
       "└──────────────────────────────────────┴─────────────────────────────┴─────────────────┘\n"
      ]
     },
     "metadata": {},
     "output_type": "display_data"
    },
    {
     "data": {
      "text/html": [
       "<pre style=\"white-space:pre;overflow-x:auto;line-height:normal;font-family:Menlo,'DejaVu Sans Mono',consolas,'Courier New',monospace\"><span style=\"font-weight: bold\"> Total params: </span><span style=\"color: #00af00; text-decoration-color: #00af00\">17,729</span> (69.25 KB)\n",
       "</pre>\n"
      ],
      "text/plain": [
       "\u001b[1m Total params: \u001b[0m\u001b[38;5;34m17,729\u001b[0m (69.25 KB)\n"
      ]
     },
     "metadata": {},
     "output_type": "display_data"
    },
    {
     "data": {
      "text/html": [
       "<pre style=\"white-space:pre;overflow-x:auto;line-height:normal;font-family:Menlo,'DejaVu Sans Mono',consolas,'Courier New',monospace\"><span style=\"font-weight: bold\"> Trainable params: </span><span style=\"color: #00af00; text-decoration-color: #00af00\">17,729</span> (69.25 KB)\n",
       "</pre>\n"
      ],
      "text/plain": [
       "\u001b[1m Trainable params: \u001b[0m\u001b[38;5;34m17,729\u001b[0m (69.25 KB)\n"
      ]
     },
     "metadata": {},
     "output_type": "display_data"
    },
    {
     "data": {
      "text/html": [
       "<pre style=\"white-space:pre;overflow-x:auto;line-height:normal;font-family:Menlo,'DejaVu Sans Mono',consolas,'Courier New',monospace\"><span style=\"font-weight: bold\"> Non-trainable params: </span><span style=\"color: #00af00; text-decoration-color: #00af00\">0</span> (0.00 B)\n",
       "</pre>\n"
      ],
      "text/plain": [
       "\u001b[1m Non-trainable params: \u001b[0m\u001b[38;5;34m0\u001b[0m (0.00 B)\n"
      ]
     },
     "metadata": {},
     "output_type": "display_data"
    },
    {
     "name": "stdout",
     "output_type": "stream",
     "text": [
      "Evaluating model...\n",
      "\u001b[1m19/19\u001b[0m \u001b[32m━━━━━━━━━━━━━━━━━━━━\u001b[0m\u001b[37m\u001b[0m \u001b[1m0s\u001b[0m 2ms/step - loss: 2.0261e-04 \n",
      "Making predictions...\n",
      "\u001b[1m19/19\u001b[0m \u001b[32m━━━━━━━━━━━━━━━━━━━━\u001b[0m\u001b[37m\u001b[0m \u001b[1m0s\u001b[0m 7ms/step\n",
      "Calculate Error Metrics...\n",
      "\n",
      "Running for 2-fold\n",
      "Spliting data...\n",
      "Building model...\n"
     ]
    },
    {
     "data": {
      "text/html": [
       "<pre style=\"white-space:pre;overflow-x:auto;line-height:normal;font-family:Menlo,'DejaVu Sans Mono',consolas,'Courier New',monospace\"><span style=\"font-weight: bold\">Model: \"sequential_1\"</span>\n",
       "</pre>\n"
      ],
      "text/plain": [
       "\u001b[1mModel: \"sequential_1\"\u001b[0m\n"
      ]
     },
     "metadata": {},
     "output_type": "display_data"
    },
    {
     "data": {
      "text/html": [
       "<pre style=\"white-space:pre;overflow-x:auto;line-height:normal;font-family:Menlo,'DejaVu Sans Mono',consolas,'Courier New',monospace\">┏━━━━━━━━━━━━━━━━━━━━━━━━━━━━━━━━━━━━━━┳━━━━━━━━━━━━━━━━━━━━━━━━━━━━━┳━━━━━━━━━━━━━━━━━┓\n",
       "┃<span style=\"font-weight: bold\"> Layer (type)                         </span>┃<span style=\"font-weight: bold\"> Output Shape                </span>┃<span style=\"font-weight: bold\">         Param # </span>┃\n",
       "┡━━━━━━━━━━━━━━━━━━━━━━━━━━━━━━━━━━━━━━╇━━━━━━━━━━━━━━━━━━━━━━━━━━━━━╇━━━━━━━━━━━━━━━━━┩\n",
       "│ lstm_1 (<span style=\"color: #0087ff; text-decoration-color: #0087ff\">LSTM</span>)                        │ (<span style=\"color: #00d7ff; text-decoration-color: #00d7ff\">None</span>, <span style=\"color: #00af00; text-decoration-color: #00af00\">64</span>)                  │          <span style=\"color: #00af00; text-decoration-color: #00af00\">17,664</span> │\n",
       "├──────────────────────────────────────┼─────────────────────────────┼─────────────────┤\n",
       "│ dense_1 (<span style=\"color: #0087ff; text-decoration-color: #0087ff\">Dense</span>)                      │ (<span style=\"color: #00d7ff; text-decoration-color: #00d7ff\">None</span>, <span style=\"color: #00af00; text-decoration-color: #00af00\">1</span>)                   │              <span style=\"color: #00af00; text-decoration-color: #00af00\">65</span> │\n",
       "└──────────────────────────────────────┴─────────────────────────────┴─────────────────┘\n",
       "</pre>\n"
      ],
      "text/plain": [
       "┏━━━━━━━━━━━━━━━━━━━━━━━━━━━━━━━━━━━━━━┳━━━━━━━━━━━━━━━━━━━━━━━━━━━━━┳━━━━━━━━━━━━━━━━━┓\n",
       "┃\u001b[1m \u001b[0m\u001b[1mLayer (type)                        \u001b[0m\u001b[1m \u001b[0m┃\u001b[1m \u001b[0m\u001b[1mOutput Shape               \u001b[0m\u001b[1m \u001b[0m┃\u001b[1m \u001b[0m\u001b[1m        Param #\u001b[0m\u001b[1m \u001b[0m┃\n",
       "┡━━━━━━━━━━━━━━━━━━━━━━━━━━━━━━━━━━━━━━╇━━━━━━━━━━━━━━━━━━━━━━━━━━━━━╇━━━━━━━━━━━━━━━━━┩\n",
       "│ lstm_1 (\u001b[38;5;33mLSTM\u001b[0m)                        │ (\u001b[38;5;45mNone\u001b[0m, \u001b[38;5;34m64\u001b[0m)                  │          \u001b[38;5;34m17,664\u001b[0m │\n",
       "├──────────────────────────────────────┼─────────────────────────────┼─────────────────┤\n",
       "│ dense_1 (\u001b[38;5;33mDense\u001b[0m)                      │ (\u001b[38;5;45mNone\u001b[0m, \u001b[38;5;34m1\u001b[0m)                   │              \u001b[38;5;34m65\u001b[0m │\n",
       "└──────────────────────────────────────┴─────────────────────────────┴─────────────────┘\n"
      ]
     },
     "metadata": {},
     "output_type": "display_data"
    },
    {
     "data": {
      "text/html": [
       "<pre style=\"white-space:pre;overflow-x:auto;line-height:normal;font-family:Menlo,'DejaVu Sans Mono',consolas,'Courier New',monospace\"><span style=\"font-weight: bold\"> Total params: </span><span style=\"color: #00af00; text-decoration-color: #00af00\">17,729</span> (69.25 KB)\n",
       "</pre>\n"
      ],
      "text/plain": [
       "\u001b[1m Total params: \u001b[0m\u001b[38;5;34m17,729\u001b[0m (69.25 KB)\n"
      ]
     },
     "metadata": {},
     "output_type": "display_data"
    },
    {
     "data": {
      "text/html": [
       "<pre style=\"white-space:pre;overflow-x:auto;line-height:normal;font-family:Menlo,'DejaVu Sans Mono',consolas,'Courier New',monospace\"><span style=\"font-weight: bold\"> Trainable params: </span><span style=\"color: #00af00; text-decoration-color: #00af00\">17,729</span> (69.25 KB)\n",
       "</pre>\n"
      ],
      "text/plain": [
       "\u001b[1m Trainable params: \u001b[0m\u001b[38;5;34m17,729\u001b[0m (69.25 KB)\n"
      ]
     },
     "metadata": {},
     "output_type": "display_data"
    },
    {
     "data": {
      "text/html": [
       "<pre style=\"white-space:pre;overflow-x:auto;line-height:normal;font-family:Menlo,'DejaVu Sans Mono',consolas,'Courier New',monospace\"><span style=\"font-weight: bold\"> Non-trainable params: </span><span style=\"color: #00af00; text-decoration-color: #00af00\">0</span> (0.00 B)\n",
       "</pre>\n"
      ],
      "text/plain": [
       "\u001b[1m Non-trainable params: \u001b[0m\u001b[38;5;34m0\u001b[0m (0.00 B)\n"
      ]
     },
     "metadata": {},
     "output_type": "display_data"
    },
    {
     "name": "stdout",
     "output_type": "stream",
     "text": [
      "Evaluating model...\n",
      "\u001b[1m19/19\u001b[0m \u001b[32m━━━━━━━━━━━━━━━━━━━━\u001b[0m\u001b[37m\u001b[0m \u001b[1m0s\u001b[0m 2ms/step - loss: 9.2574e-05 \n",
      "Making predictions...\n",
      "\u001b[1m19/19\u001b[0m \u001b[32m━━━━━━━━━━━━━━━━━━━━\u001b[0m\u001b[37m\u001b[0m \u001b[1m0s\u001b[0m 8ms/step\n",
      "Calculate Error Metrics...\n",
      "\n",
      "Running for 3-fold\n",
      "Spliting data...\n",
      "Building model...\n"
     ]
    },
    {
     "data": {
      "text/html": [
       "<pre style=\"white-space:pre;overflow-x:auto;line-height:normal;font-family:Menlo,'DejaVu Sans Mono',consolas,'Courier New',monospace\"><span style=\"font-weight: bold\">Model: \"sequential_2\"</span>\n",
       "</pre>\n"
      ],
      "text/plain": [
       "\u001b[1mModel: \"sequential_2\"\u001b[0m\n"
      ]
     },
     "metadata": {},
     "output_type": "display_data"
    },
    {
     "data": {
      "text/html": [
       "<pre style=\"white-space:pre;overflow-x:auto;line-height:normal;font-family:Menlo,'DejaVu Sans Mono',consolas,'Courier New',monospace\">┏━━━━━━━━━━━━━━━━━━━━━━━━━━━━━━━━━━━━━━┳━━━━━━━━━━━━━━━━━━━━━━━━━━━━━┳━━━━━━━━━━━━━━━━━┓\n",
       "┃<span style=\"font-weight: bold\"> Layer (type)                         </span>┃<span style=\"font-weight: bold\"> Output Shape                </span>┃<span style=\"font-weight: bold\">         Param # </span>┃\n",
       "┡━━━━━━━━━━━━━━━━━━━━━━━━━━━━━━━━━━━━━━╇━━━━━━━━━━━━━━━━━━━━━━━━━━━━━╇━━━━━━━━━━━━━━━━━┩\n",
       "│ lstm_2 (<span style=\"color: #0087ff; text-decoration-color: #0087ff\">LSTM</span>)                        │ (<span style=\"color: #00d7ff; text-decoration-color: #00d7ff\">None</span>, <span style=\"color: #00af00; text-decoration-color: #00af00\">64</span>)                  │          <span style=\"color: #00af00; text-decoration-color: #00af00\">17,664</span> │\n",
       "├──────────────────────────────────────┼─────────────────────────────┼─────────────────┤\n",
       "│ dense_2 (<span style=\"color: #0087ff; text-decoration-color: #0087ff\">Dense</span>)                      │ (<span style=\"color: #00d7ff; text-decoration-color: #00d7ff\">None</span>, <span style=\"color: #00af00; text-decoration-color: #00af00\">1</span>)                   │              <span style=\"color: #00af00; text-decoration-color: #00af00\">65</span> │\n",
       "└──────────────────────────────────────┴─────────────────────────────┴─────────────────┘\n",
       "</pre>\n"
      ],
      "text/plain": [
       "┏━━━━━━━━━━━━━━━━━━━━━━━━━━━━━━━━━━━━━━┳━━━━━━━━━━━━━━━━━━━━━━━━━━━━━┳━━━━━━━━━━━━━━━━━┓\n",
       "┃\u001b[1m \u001b[0m\u001b[1mLayer (type)                        \u001b[0m\u001b[1m \u001b[0m┃\u001b[1m \u001b[0m\u001b[1mOutput Shape               \u001b[0m\u001b[1m \u001b[0m┃\u001b[1m \u001b[0m\u001b[1m        Param #\u001b[0m\u001b[1m \u001b[0m┃\n",
       "┡━━━━━━━━━━━━━━━━━━━━━━━━━━━━━━━━━━━━━━╇━━━━━━━━━━━━━━━━━━━━━━━━━━━━━╇━━━━━━━━━━━━━━━━━┩\n",
       "│ lstm_2 (\u001b[38;5;33mLSTM\u001b[0m)                        │ (\u001b[38;5;45mNone\u001b[0m, \u001b[38;5;34m64\u001b[0m)                  │          \u001b[38;5;34m17,664\u001b[0m │\n",
       "├──────────────────────────────────────┼─────────────────────────────┼─────────────────┤\n",
       "│ dense_2 (\u001b[38;5;33mDense\u001b[0m)                      │ (\u001b[38;5;45mNone\u001b[0m, \u001b[38;5;34m1\u001b[0m)                   │              \u001b[38;5;34m65\u001b[0m │\n",
       "└──────────────────────────────────────┴─────────────────────────────┴─────────────────┘\n"
      ]
     },
     "metadata": {},
     "output_type": "display_data"
    },
    {
     "data": {
      "text/html": [
       "<pre style=\"white-space:pre;overflow-x:auto;line-height:normal;font-family:Menlo,'DejaVu Sans Mono',consolas,'Courier New',monospace\"><span style=\"font-weight: bold\"> Total params: </span><span style=\"color: #00af00; text-decoration-color: #00af00\">17,729</span> (69.25 KB)\n",
       "</pre>\n"
      ],
      "text/plain": [
       "\u001b[1m Total params: \u001b[0m\u001b[38;5;34m17,729\u001b[0m (69.25 KB)\n"
      ]
     },
     "metadata": {},
     "output_type": "display_data"
    },
    {
     "data": {
      "text/html": [
       "<pre style=\"white-space:pre;overflow-x:auto;line-height:normal;font-family:Menlo,'DejaVu Sans Mono',consolas,'Courier New',monospace\"><span style=\"font-weight: bold\"> Trainable params: </span><span style=\"color: #00af00; text-decoration-color: #00af00\">17,729</span> (69.25 KB)\n",
       "</pre>\n"
      ],
      "text/plain": [
       "\u001b[1m Trainable params: \u001b[0m\u001b[38;5;34m17,729\u001b[0m (69.25 KB)\n"
      ]
     },
     "metadata": {},
     "output_type": "display_data"
    },
    {
     "data": {
      "text/html": [
       "<pre style=\"white-space:pre;overflow-x:auto;line-height:normal;font-family:Menlo,'DejaVu Sans Mono',consolas,'Courier New',monospace\"><span style=\"font-weight: bold\"> Non-trainable params: </span><span style=\"color: #00af00; text-decoration-color: #00af00\">0</span> (0.00 B)\n",
       "</pre>\n"
      ],
      "text/plain": [
       "\u001b[1m Non-trainable params: \u001b[0m\u001b[38;5;34m0\u001b[0m (0.00 B)\n"
      ]
     },
     "metadata": {},
     "output_type": "display_data"
    },
    {
     "name": "stdout",
     "output_type": "stream",
     "text": [
      "Evaluating model...\n",
      "\u001b[1m19/19\u001b[0m \u001b[32m━━━━━━━━━━━━━━━━━━━━\u001b[0m\u001b[37m\u001b[0m \u001b[1m0s\u001b[0m 5ms/step - loss: 1.5881e-04\n",
      "Making predictions...\n",
      "\u001b[1m19/19\u001b[0m \u001b[32m━━━━━━━━━━━━━━━━━━━━\u001b[0m\u001b[37m\u001b[0m \u001b[1m0s\u001b[0m 12ms/step\n",
      "Calculate Error Metrics...\n",
      "\n",
      "Running for 4-fold\n",
      "Spliting data...\n",
      "Building model...\n"
     ]
    },
    {
     "data": {
      "text/html": [
       "<pre style=\"white-space:pre;overflow-x:auto;line-height:normal;font-family:Menlo,'DejaVu Sans Mono',consolas,'Courier New',monospace\"><span style=\"font-weight: bold\">Model: \"sequential_3\"</span>\n",
       "</pre>\n"
      ],
      "text/plain": [
       "\u001b[1mModel: \"sequential_3\"\u001b[0m\n"
      ]
     },
     "metadata": {},
     "output_type": "display_data"
    },
    {
     "data": {
      "text/html": [
       "<pre style=\"white-space:pre;overflow-x:auto;line-height:normal;font-family:Menlo,'DejaVu Sans Mono',consolas,'Courier New',monospace\">┏━━━━━━━━━━━━━━━━━━━━━━━━━━━━━━━━━━━━━━┳━━━━━━━━━━━━━━━━━━━━━━━━━━━━━┳━━━━━━━━━━━━━━━━━┓\n",
       "┃<span style=\"font-weight: bold\"> Layer (type)                         </span>┃<span style=\"font-weight: bold\"> Output Shape                </span>┃<span style=\"font-weight: bold\">         Param # </span>┃\n",
       "┡━━━━━━━━━━━━━━━━━━━━━━━━━━━━━━━━━━━━━━╇━━━━━━━━━━━━━━━━━━━━━━━━━━━━━╇━━━━━━━━━━━━━━━━━┩\n",
       "│ lstm_3 (<span style=\"color: #0087ff; text-decoration-color: #0087ff\">LSTM</span>)                        │ (<span style=\"color: #00d7ff; text-decoration-color: #00d7ff\">None</span>, <span style=\"color: #00af00; text-decoration-color: #00af00\">64</span>)                  │          <span style=\"color: #00af00; text-decoration-color: #00af00\">17,664</span> │\n",
       "├──────────────────────────────────────┼─────────────────────────────┼─────────────────┤\n",
       "│ dense_3 (<span style=\"color: #0087ff; text-decoration-color: #0087ff\">Dense</span>)                      │ (<span style=\"color: #00d7ff; text-decoration-color: #00d7ff\">None</span>, <span style=\"color: #00af00; text-decoration-color: #00af00\">1</span>)                   │              <span style=\"color: #00af00; text-decoration-color: #00af00\">65</span> │\n",
       "└──────────────────────────────────────┴─────────────────────────────┴─────────────────┘\n",
       "</pre>\n"
      ],
      "text/plain": [
       "┏━━━━━━━━━━━━━━━━━━━━━━━━━━━━━━━━━━━━━━┳━━━━━━━━━━━━━━━━━━━━━━━━━━━━━┳━━━━━━━━━━━━━━━━━┓\n",
       "┃\u001b[1m \u001b[0m\u001b[1mLayer (type)                        \u001b[0m\u001b[1m \u001b[0m┃\u001b[1m \u001b[0m\u001b[1mOutput Shape               \u001b[0m\u001b[1m \u001b[0m┃\u001b[1m \u001b[0m\u001b[1m        Param #\u001b[0m\u001b[1m \u001b[0m┃\n",
       "┡━━━━━━━━━━━━━━━━━━━━━━━━━━━━━━━━━━━━━━╇━━━━━━━━━━━━━━━━━━━━━━━━━━━━━╇━━━━━━━━━━━━━━━━━┩\n",
       "│ lstm_3 (\u001b[38;5;33mLSTM\u001b[0m)                        │ (\u001b[38;5;45mNone\u001b[0m, \u001b[38;5;34m64\u001b[0m)                  │          \u001b[38;5;34m17,664\u001b[0m │\n",
       "├──────────────────────────────────────┼─────────────────────────────┼─────────────────┤\n",
       "│ dense_3 (\u001b[38;5;33mDense\u001b[0m)                      │ (\u001b[38;5;45mNone\u001b[0m, \u001b[38;5;34m1\u001b[0m)                   │              \u001b[38;5;34m65\u001b[0m │\n",
       "└──────────────────────────────────────┴─────────────────────────────┴─────────────────┘\n"
      ]
     },
     "metadata": {},
     "output_type": "display_data"
    },
    {
     "data": {
      "text/html": [
       "<pre style=\"white-space:pre;overflow-x:auto;line-height:normal;font-family:Menlo,'DejaVu Sans Mono',consolas,'Courier New',monospace\"><span style=\"font-weight: bold\"> Total params: </span><span style=\"color: #00af00; text-decoration-color: #00af00\">17,729</span> (69.25 KB)\n",
       "</pre>\n"
      ],
      "text/plain": [
       "\u001b[1m Total params: \u001b[0m\u001b[38;5;34m17,729\u001b[0m (69.25 KB)\n"
      ]
     },
     "metadata": {},
     "output_type": "display_data"
    },
    {
     "data": {
      "text/html": [
       "<pre style=\"white-space:pre;overflow-x:auto;line-height:normal;font-family:Menlo,'DejaVu Sans Mono',consolas,'Courier New',monospace\"><span style=\"font-weight: bold\"> Trainable params: </span><span style=\"color: #00af00; text-decoration-color: #00af00\">17,729</span> (69.25 KB)\n",
       "</pre>\n"
      ],
      "text/plain": [
       "\u001b[1m Trainable params: \u001b[0m\u001b[38;5;34m17,729\u001b[0m (69.25 KB)\n"
      ]
     },
     "metadata": {},
     "output_type": "display_data"
    },
    {
     "data": {
      "text/html": [
       "<pre style=\"white-space:pre;overflow-x:auto;line-height:normal;font-family:Menlo,'DejaVu Sans Mono',consolas,'Courier New',monospace\"><span style=\"font-weight: bold\"> Non-trainable params: </span><span style=\"color: #00af00; text-decoration-color: #00af00\">0</span> (0.00 B)\n",
       "</pre>\n"
      ],
      "text/plain": [
       "\u001b[1m Non-trainable params: \u001b[0m\u001b[38;5;34m0\u001b[0m (0.00 B)\n"
      ]
     },
     "metadata": {},
     "output_type": "display_data"
    },
    {
     "name": "stdout",
     "output_type": "stream",
     "text": [
      "Evaluating model...\n",
      "\u001b[1m19/19\u001b[0m \u001b[32m━━━━━━━━━━━━━━━━━━━━\u001b[0m\u001b[37m\u001b[0m \u001b[1m0s\u001b[0m 3ms/step - loss: 2.7632e-04 \n",
      "Making predictions...\n",
      "\u001b[1m19/19\u001b[0m \u001b[32m━━━━━━━━━━━━━━━━━━━━\u001b[0m\u001b[37m\u001b[0m \u001b[1m0s\u001b[0m 9ms/step\n",
      "Calculate Error Metrics...\n",
      "\n",
      "Running for 5-fold\n",
      "Spliting data...\n",
      "Building model...\n"
     ]
    },
    {
     "data": {
      "text/html": [
       "<pre style=\"white-space:pre;overflow-x:auto;line-height:normal;font-family:Menlo,'DejaVu Sans Mono',consolas,'Courier New',monospace\"><span style=\"font-weight: bold\">Model: \"sequential_4\"</span>\n",
       "</pre>\n"
      ],
      "text/plain": [
       "\u001b[1mModel: \"sequential_4\"\u001b[0m\n"
      ]
     },
     "metadata": {},
     "output_type": "display_data"
    },
    {
     "data": {
      "text/html": [
       "<pre style=\"white-space:pre;overflow-x:auto;line-height:normal;font-family:Menlo,'DejaVu Sans Mono',consolas,'Courier New',monospace\">┏━━━━━━━━━━━━━━━━━━━━━━━━━━━━━━━━━━━━━━┳━━━━━━━━━━━━━━━━━━━━━━━━━━━━━┳━━━━━━━━━━━━━━━━━┓\n",
       "┃<span style=\"font-weight: bold\"> Layer (type)                         </span>┃<span style=\"font-weight: bold\"> Output Shape                </span>┃<span style=\"font-weight: bold\">         Param # </span>┃\n",
       "┡━━━━━━━━━━━━━━━━━━━━━━━━━━━━━━━━━━━━━━╇━━━━━━━━━━━━━━━━━━━━━━━━━━━━━╇━━━━━━━━━━━━━━━━━┩\n",
       "│ lstm_4 (<span style=\"color: #0087ff; text-decoration-color: #0087ff\">LSTM</span>)                        │ (<span style=\"color: #00d7ff; text-decoration-color: #00d7ff\">None</span>, <span style=\"color: #00af00; text-decoration-color: #00af00\">64</span>)                  │          <span style=\"color: #00af00; text-decoration-color: #00af00\">17,664</span> │\n",
       "├──────────────────────────────────────┼─────────────────────────────┼─────────────────┤\n",
       "│ dense_4 (<span style=\"color: #0087ff; text-decoration-color: #0087ff\">Dense</span>)                      │ (<span style=\"color: #00d7ff; text-decoration-color: #00d7ff\">None</span>, <span style=\"color: #00af00; text-decoration-color: #00af00\">1</span>)                   │              <span style=\"color: #00af00; text-decoration-color: #00af00\">65</span> │\n",
       "└──────────────────────────────────────┴─────────────────────────────┴─────────────────┘\n",
       "</pre>\n"
      ],
      "text/plain": [
       "┏━━━━━━━━━━━━━━━━━━━━━━━━━━━━━━━━━━━━━━┳━━━━━━━━━━━━━━━━━━━━━━━━━━━━━┳━━━━━━━━━━━━━━━━━┓\n",
       "┃\u001b[1m \u001b[0m\u001b[1mLayer (type)                        \u001b[0m\u001b[1m \u001b[0m┃\u001b[1m \u001b[0m\u001b[1mOutput Shape               \u001b[0m\u001b[1m \u001b[0m┃\u001b[1m \u001b[0m\u001b[1m        Param #\u001b[0m\u001b[1m \u001b[0m┃\n",
       "┡━━━━━━━━━━━━━━━━━━━━━━━━━━━━━━━━━━━━━━╇━━━━━━━━━━━━━━━━━━━━━━━━━━━━━╇━━━━━━━━━━━━━━━━━┩\n",
       "│ lstm_4 (\u001b[38;5;33mLSTM\u001b[0m)                        │ (\u001b[38;5;45mNone\u001b[0m, \u001b[38;5;34m64\u001b[0m)                  │          \u001b[38;5;34m17,664\u001b[0m │\n",
       "├──────────────────────────────────────┼─────────────────────────────┼─────────────────┤\n",
       "│ dense_4 (\u001b[38;5;33mDense\u001b[0m)                      │ (\u001b[38;5;45mNone\u001b[0m, \u001b[38;5;34m1\u001b[0m)                   │              \u001b[38;5;34m65\u001b[0m │\n",
       "└──────────────────────────────────────┴─────────────────────────────┴─────────────────┘\n"
      ]
     },
     "metadata": {},
     "output_type": "display_data"
    },
    {
     "data": {
      "text/html": [
       "<pre style=\"white-space:pre;overflow-x:auto;line-height:normal;font-family:Menlo,'DejaVu Sans Mono',consolas,'Courier New',monospace\"><span style=\"font-weight: bold\"> Total params: </span><span style=\"color: #00af00; text-decoration-color: #00af00\">17,729</span> (69.25 KB)\n",
       "</pre>\n"
      ],
      "text/plain": [
       "\u001b[1m Total params: \u001b[0m\u001b[38;5;34m17,729\u001b[0m (69.25 KB)\n"
      ]
     },
     "metadata": {},
     "output_type": "display_data"
    },
    {
     "data": {
      "text/html": [
       "<pre style=\"white-space:pre;overflow-x:auto;line-height:normal;font-family:Menlo,'DejaVu Sans Mono',consolas,'Courier New',monospace\"><span style=\"font-weight: bold\"> Trainable params: </span><span style=\"color: #00af00; text-decoration-color: #00af00\">17,729</span> (69.25 KB)\n",
       "</pre>\n"
      ],
      "text/plain": [
       "\u001b[1m Trainable params: \u001b[0m\u001b[38;5;34m17,729\u001b[0m (69.25 KB)\n"
      ]
     },
     "metadata": {},
     "output_type": "display_data"
    },
    {
     "data": {
      "text/html": [
       "<pre style=\"white-space:pre;overflow-x:auto;line-height:normal;font-family:Menlo,'DejaVu Sans Mono',consolas,'Courier New',monospace\"><span style=\"font-weight: bold\"> Non-trainable params: </span><span style=\"color: #00af00; text-decoration-color: #00af00\">0</span> (0.00 B)\n",
       "</pre>\n"
      ],
      "text/plain": [
       "\u001b[1m Non-trainable params: \u001b[0m\u001b[38;5;34m0\u001b[0m (0.00 B)\n"
      ]
     },
     "metadata": {},
     "output_type": "display_data"
    },
    {
     "name": "stdout",
     "output_type": "stream",
     "text": [
      "Evaluating model...\n",
      "\u001b[1m19/19\u001b[0m \u001b[32m━━━━━━━━━━━━━━━━━━━━\u001b[0m\u001b[37m\u001b[0m \u001b[1m0s\u001b[0m 2ms/step - loss: 5.1025e-04 \n",
      "Making predictions...\n",
      "\u001b[1m19/19\u001b[0m \u001b[32m━━━━━━━━━━━━━━━━━━━━\u001b[0m\u001b[37m\u001b[0m \u001b[1m0s\u001b[0m 12ms/step\n",
      "Calculate Error Metrics...\n",
      "\n",
      "Final Evaluation Result\n",
      "Average Loss: 0.0002618463564431295\n",
      "Average Mean Absolute Error (MAE): 1.3132430924676277\n",
      "Average Mean Squared Error (MSE): 6.64159702961365\n",
      "Average Root Mean Squared Error (RMSE): 2.5771296105577712\n"
     ]
    }
   ],
   "source": [
    "# Set up TimeSeriesSplit cross-validation\n",
    "tscv = TimeSeriesSplit(n_splits=5)  # 5 folds\n",
    "\n",
    "loss_array, mae_array, mse_array, rmse_array = [], [], [], []\n",
    "\n",
    "# Initialize the cross-validation loop\n",
    "for k, (train_index, test_index) in enumerate(tscv.split(X), 1):\n",
    "    print(f\"Running for {k}-fold\")\n",
    "\n",
    "    print(f\"Spliting data...\")\n",
    "    X_train, X_test = X[train_index], X[test_index]\n",
    "    y_train, y_test = y[train_index], y[test_index]\n",
    "\n",
    "    print(f\"Building model...\")\n",
    "    model = build_model(X_train, y_train, verbose=0)\n",
    "    \n",
    "    print(f\"Evaluating model...\")\n",
    "    loss = model.evaluate(X_test, y_test)\n",
    "    loss_array.append(loss)\n",
    "\n",
    "    print(f\"Making predictions...\")\n",
    "    predictions_scaled = model.predict(X_test)\n",
    "    predictions_reshaped = predictions_scaled.reshape(-1, 1)\n",
    "    predictions = scaler.inverse_transform(predictions_reshaped)\n",
    "    actuals = scaler.inverse_transform(y_test)\n",
    "    \n",
    "    print(f\"Calculate Error Metrics...\")\n",
    "    mse = mean_squared_error(actuals, predictions)\n",
    "    mse_array.append(mse)\n",
    "    mae = mean_absolute_error(actuals, predictions)\n",
    "    mae_array.append(mae)\n",
    "    rmse = np.sqrt(mse)\n",
    "    rmse_array.append(rmse)\n",
    "    print()\n",
    "    \n",
    "print(\"Final Evaluation Result\")\n",
    "print(f'Average Loss: {np.mean(loss_array)}')\n",
    "print(f'Average Mean Absolute Error (MAE): {np.mean(mae_array)}')\n",
    "print(f'Average Mean Squared Error (MSE): {np.mean(mse)}')\n",
    "print(f'Average Root Mean Squared Error (RMSE): {np.mean(rmse)}')"
   ]
  },
  {
   "cell_type": "markdown",
   "id": "1b6a5590-3222-4d3f-8dfb-b003e8f9a462",
   "metadata": {},
   "source": [
    "### IV - Testing & Simulating"
   ]
  },
  {
   "cell_type": "code",
   "execution_count": 12,
   "id": "3d2f2d17-f305-4db9-bf98-c3a401d33181",
   "metadata": {},
   "outputs": [
    {
     "name": "stdout",
     "output_type": "stream",
     "text": [
      "train_test_separation_index = 2784\n"
     ]
    }
   ],
   "source": [
    "train_test_separation_index = int(len(stock_data)*0.8)\n",
    "\n",
    "print(f\"{train_test_separation_index = }\")"
   ]
  },
  {
   "cell_type": "code",
   "execution_count": 13,
   "id": "e035528c-8e26-4f5a-aadd-1c272bcb789a",
   "metadata": {},
   "outputs": [],
   "source": [
    "X_train, y_train = X[:train_test_separation_index], y[:train_test_separation_index]\n",
    "X_test, y_test = X[train_test_separation_index:], y[train_test_separation_index:]"
   ]
  },
  {
   "cell_type": "code",
   "execution_count": 14,
   "id": "a4eb7c92-e407-4aee-b4ef-b16fb981c5a4",
   "metadata": {},
   "outputs": [
    {
     "data": {
      "text/html": [
       "<pre style=\"white-space:pre;overflow-x:auto;line-height:normal;font-family:Menlo,'DejaVu Sans Mono',consolas,'Courier New',monospace\"><span style=\"font-weight: bold\">Model: \"sequential_5\"</span>\n",
       "</pre>\n"
      ],
      "text/plain": [
       "\u001b[1mModel: \"sequential_5\"\u001b[0m\n"
      ]
     },
     "metadata": {},
     "output_type": "display_data"
    },
    {
     "data": {
      "text/html": [
       "<pre style=\"white-space:pre;overflow-x:auto;line-height:normal;font-family:Menlo,'DejaVu Sans Mono',consolas,'Courier New',monospace\">┏━━━━━━━━━━━━━━━━━━━━━━━━━━━━━━━━━━━━━━┳━━━━━━━━━━━━━━━━━━━━━━━━━━━━━┳━━━━━━━━━━━━━━━━━┓\n",
       "┃<span style=\"font-weight: bold\"> Layer (type)                         </span>┃<span style=\"font-weight: bold\"> Output Shape                </span>┃<span style=\"font-weight: bold\">         Param # </span>┃\n",
       "┡━━━━━━━━━━━━━━━━━━━━━━━━━━━━━━━━━━━━━━╇━━━━━━━━━━━━━━━━━━━━━━━━━━━━━╇━━━━━━━━━━━━━━━━━┩\n",
       "│ lstm_5 (<span style=\"color: #0087ff; text-decoration-color: #0087ff\">LSTM</span>)                        │ (<span style=\"color: #00d7ff; text-decoration-color: #00d7ff\">None</span>, <span style=\"color: #00af00; text-decoration-color: #00af00\">64</span>)                  │          <span style=\"color: #00af00; text-decoration-color: #00af00\">17,664</span> │\n",
       "├──────────────────────────────────────┼─────────────────────────────┼─────────────────┤\n",
       "│ dense_5 (<span style=\"color: #0087ff; text-decoration-color: #0087ff\">Dense</span>)                      │ (<span style=\"color: #00d7ff; text-decoration-color: #00d7ff\">None</span>, <span style=\"color: #00af00; text-decoration-color: #00af00\">1</span>)                   │              <span style=\"color: #00af00; text-decoration-color: #00af00\">65</span> │\n",
       "└──────────────────────────────────────┴─────────────────────────────┴─────────────────┘\n",
       "</pre>\n"
      ],
      "text/plain": [
       "┏━━━━━━━━━━━━━━━━━━━━━━━━━━━━━━━━━━━━━━┳━━━━━━━━━━━━━━━━━━━━━━━━━━━━━┳━━━━━━━━━━━━━━━━━┓\n",
       "┃\u001b[1m \u001b[0m\u001b[1mLayer (type)                        \u001b[0m\u001b[1m \u001b[0m┃\u001b[1m \u001b[0m\u001b[1mOutput Shape               \u001b[0m\u001b[1m \u001b[0m┃\u001b[1m \u001b[0m\u001b[1m        Param #\u001b[0m\u001b[1m \u001b[0m┃\n",
       "┡━━━━━━━━━━━━━━━━━━━━━━━━━━━━━━━━━━━━━━╇━━━━━━━━━━━━━━━━━━━━━━━━━━━━━╇━━━━━━━━━━━━━━━━━┩\n",
       "│ lstm_5 (\u001b[38;5;33mLSTM\u001b[0m)                        │ (\u001b[38;5;45mNone\u001b[0m, \u001b[38;5;34m64\u001b[0m)                  │          \u001b[38;5;34m17,664\u001b[0m │\n",
       "├──────────────────────────────────────┼─────────────────────────────┼─────────────────┤\n",
       "│ dense_5 (\u001b[38;5;33mDense\u001b[0m)                      │ (\u001b[38;5;45mNone\u001b[0m, \u001b[38;5;34m1\u001b[0m)                   │              \u001b[38;5;34m65\u001b[0m │\n",
       "└──────────────────────────────────────┴─────────────────────────────┴─────────────────┘\n"
      ]
     },
     "metadata": {},
     "output_type": "display_data"
    },
    {
     "data": {
      "text/html": [
       "<pre style=\"white-space:pre;overflow-x:auto;line-height:normal;font-family:Menlo,'DejaVu Sans Mono',consolas,'Courier New',monospace\"><span style=\"font-weight: bold\"> Total params: </span><span style=\"color: #00af00; text-decoration-color: #00af00\">17,729</span> (69.25 KB)\n",
       "</pre>\n"
      ],
      "text/plain": [
       "\u001b[1m Total params: \u001b[0m\u001b[38;5;34m17,729\u001b[0m (69.25 KB)\n"
      ]
     },
     "metadata": {},
     "output_type": "display_data"
    },
    {
     "data": {
      "text/html": [
       "<pre style=\"white-space:pre;overflow-x:auto;line-height:normal;font-family:Menlo,'DejaVu Sans Mono',consolas,'Courier New',monospace\"><span style=\"font-weight: bold\"> Trainable params: </span><span style=\"color: #00af00; text-decoration-color: #00af00\">17,729</span> (69.25 KB)\n",
       "</pre>\n"
      ],
      "text/plain": [
       "\u001b[1m Trainable params: \u001b[0m\u001b[38;5;34m17,729\u001b[0m (69.25 KB)\n"
      ]
     },
     "metadata": {},
     "output_type": "display_data"
    },
    {
     "data": {
      "text/html": [
       "<pre style=\"white-space:pre;overflow-x:auto;line-height:normal;font-family:Menlo,'DejaVu Sans Mono',consolas,'Courier New',monospace\"><span style=\"font-weight: bold\"> Non-trainable params: </span><span style=\"color: #00af00; text-decoration-color: #00af00\">0</span> (0.00 B)\n",
       "</pre>\n"
      ],
      "text/plain": [
       "\u001b[1m Non-trainable params: \u001b[0m\u001b[38;5;34m0\u001b[0m (0.00 B)\n"
      ]
     },
     "metadata": {},
     "output_type": "display_data"
    },
    {
     "name": "stdout",
     "output_type": "stream",
     "text": [
      "Epoch 1/50\n",
      "\u001b[1m61/61\u001b[0m \u001b[32m━━━━━━━━━━━━━━━━━━━━\u001b[0m\u001b[37m\u001b[0m \u001b[1m3s\u001b[0m 12ms/step - loss: 0.0261 - val_loss: 0.0015\n",
      "Epoch 2/50\n",
      "\u001b[1m61/61\u001b[0m \u001b[32m━━━━━━━━━━━━━━━━━━━━\u001b[0m\u001b[37m\u001b[0m \u001b[1m0s\u001b[0m 6ms/step - loss: 2.3431e-04 - val_loss: 6.5351e-04\n",
      "Epoch 3/50\n",
      "\u001b[1m61/61\u001b[0m \u001b[32m━━━━━━━━━━━━━━━━━━━━\u001b[0m\u001b[37m\u001b[0m \u001b[1m1s\u001b[0m 8ms/step - loss: 1.6010e-04 - val_loss: 6.6404e-04\n",
      "Epoch 4/50\n",
      "\u001b[1m61/61\u001b[0m \u001b[32m━━━━━━━━━━━━━━━━━━━━\u001b[0m\u001b[37m\u001b[0m \u001b[1m1s\u001b[0m 13ms/step - loss: 1.5151e-04 - val_loss: 6.9668e-04\n",
      "Epoch 5/50\n",
      "\u001b[1m61/61\u001b[0m \u001b[32m━━━━━━━━━━━━━━━━━━━━\u001b[0m\u001b[37m\u001b[0m \u001b[1m1s\u001b[0m 9ms/step - loss: 1.5182e-04 - val_loss: 4.6998e-04\n",
      "Epoch 6/50\n",
      "\u001b[1m61/61\u001b[0m \u001b[32m━━━━━━━━━━━━━━━━━━━━\u001b[0m\u001b[37m\u001b[0m \u001b[1m1s\u001b[0m 9ms/step - loss: 1.5921e-04 - val_loss: 4.7896e-04\n",
      "Epoch 7/50\n",
      "\u001b[1m61/61\u001b[0m \u001b[32m━━━━━━━━━━━━━━━━━━━━\u001b[0m\u001b[37m\u001b[0m \u001b[1m1s\u001b[0m 8ms/step - loss: 1.5515e-04 - val_loss: 4.9198e-04\n",
      "Epoch 8/50\n",
      "\u001b[1m61/61\u001b[0m \u001b[32m━━━━━━━━━━━━━━━━━━━━\u001b[0m\u001b[37m\u001b[0m \u001b[1m0s\u001b[0m 7ms/step - loss: 1.3327e-04 - val_loss: 4.8512e-04\n",
      "Epoch 9/50\n",
      "\u001b[1m61/61\u001b[0m \u001b[32m━━━━━━━━━━━━━━━━━━━━\u001b[0m\u001b[37m\u001b[0m \u001b[1m0s\u001b[0m 5ms/step - loss: 1.3568e-04 - val_loss: 4.6036e-04\n",
      "Epoch 10/50\n",
      "\u001b[1m61/61\u001b[0m \u001b[32m━━━━━━━━━━━━━━━━━━━━\u001b[0m\u001b[37m\u001b[0m \u001b[1m0s\u001b[0m 5ms/step - loss: 1.3812e-04 - val_loss: 4.5332e-04\n",
      "Epoch 11/50\n",
      "\u001b[1m61/61\u001b[0m \u001b[32m━━━━━━━━━━━━━━━━━━━━\u001b[0m\u001b[37m\u001b[0m \u001b[1m1s\u001b[0m 9ms/step - loss: 1.3853e-04 - val_loss: 4.1511e-04\n",
      "Epoch 12/50\n",
      "\u001b[1m61/61\u001b[0m \u001b[32m━━━━━━━━━━━━━━━━━━━━\u001b[0m\u001b[37m\u001b[0m \u001b[1m1s\u001b[0m 9ms/step - loss: 1.4099e-04 - val_loss: 4.1930e-04\n",
      "Epoch 13/50\n",
      "\u001b[1m61/61\u001b[0m \u001b[32m━━━━━━━━━━━━━━━━━━━━\u001b[0m\u001b[37m\u001b[0m \u001b[1m1s\u001b[0m 8ms/step - loss: 1.3588e-04 - val_loss: 4.0715e-04\n",
      "Epoch 14/50\n",
      "\u001b[1m61/61\u001b[0m \u001b[32m━━━━━━━━━━━━━━━━━━━━\u001b[0m\u001b[37m\u001b[0m \u001b[1m1s\u001b[0m 9ms/step - loss: 1.3003e-04 - val_loss: 5.4590e-04\n",
      "Epoch 15/50\n",
      "\u001b[1m61/61\u001b[0m \u001b[32m━━━━━━━━━━━━━━━━━━━━\u001b[0m\u001b[37m\u001b[0m \u001b[1m1s\u001b[0m 9ms/step - loss: 1.4311e-04 - val_loss: 4.6240e-04\n",
      "Epoch 16/50\n",
      "\u001b[1m61/61\u001b[0m \u001b[32m━━━━━━━━━━━━━━━━━━━━\u001b[0m\u001b[37m\u001b[0m \u001b[1m0s\u001b[0m 7ms/step - loss: 1.3775e-04 - val_loss: 4.8344e-04\n",
      "Epoch 17/50\n",
      "\u001b[1m61/61\u001b[0m \u001b[32m━━━━━━━━━━━━━━━━━━━━\u001b[0m\u001b[37m\u001b[0m \u001b[1m0s\u001b[0m 6ms/step - loss: 1.4471e-04 - val_loss: 4.7338e-04\n",
      "Epoch 18/50\n",
      "\u001b[1m61/61\u001b[0m \u001b[32m━━━━━━━━━━━━━━━━━━━━\u001b[0m\u001b[37m\u001b[0m \u001b[1m0s\u001b[0m 5ms/step - loss: 1.1964e-04 - val_loss: 4.3294e-04\n",
      "Epoch 19/50\n",
      "\u001b[1m61/61\u001b[0m \u001b[32m━━━━━━━━━━━━━━━━━━━━\u001b[0m\u001b[37m\u001b[0m \u001b[1m0s\u001b[0m 8ms/step - loss: 1.1981e-04 - val_loss: 3.9161e-04\n",
      "Epoch 20/50\n",
      "\u001b[1m61/61\u001b[0m \u001b[32m━━━━━━━━━━━━━━━━━━━━\u001b[0m\u001b[37m\u001b[0m \u001b[1m1s\u001b[0m 11ms/step - loss: 1.1683e-04 - val_loss: 3.4177e-04\n",
      "Epoch 21/50\n",
      "\u001b[1m61/61\u001b[0m \u001b[32m━━━━━━━━━━━━━━━━━━━━\u001b[0m\u001b[37m\u001b[0m \u001b[1m1s\u001b[0m 12ms/step - loss: 1.2140e-04 - val_loss: 4.2568e-04\n",
      "Epoch 22/50\n",
      "\u001b[1m61/61\u001b[0m \u001b[32m━━━━━━━━━━━━━━━━━━━━\u001b[0m\u001b[37m\u001b[0m \u001b[1m0s\u001b[0m 5ms/step - loss: 1.2274e-04 - val_loss: 3.3286e-04\n",
      "Epoch 23/50\n",
      "\u001b[1m61/61\u001b[0m \u001b[32m━━━━━━━━━━━━━━━━━━━━\u001b[0m\u001b[37m\u001b[0m \u001b[1m0s\u001b[0m 5ms/step - loss: 1.1719e-04 - val_loss: 3.0756e-04\n",
      "Epoch 24/50\n",
      "\u001b[1m61/61\u001b[0m \u001b[32m━━━━━━━━━━━━━━━━━━━━\u001b[0m\u001b[37m\u001b[0m \u001b[1m1s\u001b[0m 8ms/step - loss: 1.0885e-04 - val_loss: 3.9309e-04\n",
      "Epoch 25/50\n",
      "\u001b[1m61/61\u001b[0m \u001b[32m━━━━━━━━━━━━━━━━━━━━\u001b[0m\u001b[37m\u001b[0m \u001b[1m0s\u001b[0m 7ms/step - loss: 1.1652e-04 - val_loss: 2.9771e-04\n",
      "Epoch 26/50\n",
      "\u001b[1m61/61\u001b[0m \u001b[32m━━━━━━━━━━━━━━━━━━━━\u001b[0m\u001b[37m\u001b[0m \u001b[1m0s\u001b[0m 5ms/step - loss: 1.0162e-04 - val_loss: 3.7181e-04\n",
      "Epoch 27/50\n",
      "\u001b[1m61/61\u001b[0m \u001b[32m━━━━━━━━━━━━━━━━━━━━\u001b[0m\u001b[37m\u001b[0m \u001b[1m0s\u001b[0m 5ms/step - loss: 1.1853e-04 - val_loss: 2.8275e-04\n",
      "Epoch 28/50\n",
      "\u001b[1m61/61\u001b[0m \u001b[32m━━━━━━━━━━━━━━━━━━━━\u001b[0m\u001b[37m\u001b[0m \u001b[1m0s\u001b[0m 6ms/step - loss: 1.0783e-04 - val_loss: 2.7147e-04\n",
      "Epoch 29/50\n",
      "\u001b[1m61/61\u001b[0m \u001b[32m━━━━━━━━━━━━━━━━━━━━\u001b[0m\u001b[37m\u001b[0m \u001b[1m0s\u001b[0m 8ms/step - loss: 1.0643e-04 - val_loss: 2.6264e-04\n",
      "Epoch 30/50\n",
      "\u001b[1m61/61\u001b[0m \u001b[32m━━━━━━━━━━━━━━━━━━━━\u001b[0m\u001b[37m\u001b[0m \u001b[1m0s\u001b[0m 6ms/step - loss: 9.8053e-05 - val_loss: 3.7810e-04\n",
      "Epoch 31/50\n",
      "\u001b[1m61/61\u001b[0m \u001b[32m━━━━━━━━━━━━━━━━━━━━\u001b[0m\u001b[37m\u001b[0m \u001b[1m0s\u001b[0m 5ms/step - loss: 1.0102e-04 - val_loss: 2.4496e-04\n",
      "Epoch 32/50\n",
      "\u001b[1m61/61\u001b[0m \u001b[32m━━━━━━━━━━━━━━━━━━━━\u001b[0m\u001b[37m\u001b[0m \u001b[1m0s\u001b[0m 5ms/step - loss: 9.3458e-05 - val_loss: 2.5794e-04\n",
      "Epoch 33/50\n",
      "\u001b[1m61/61\u001b[0m \u001b[32m━━━━━━━━━━━━━━━━━━━━\u001b[0m\u001b[37m\u001b[0m \u001b[1m0s\u001b[0m 5ms/step - loss: 9.8194e-05 - val_loss: 2.4616e-04\n",
      "Epoch 34/50\n",
      "\u001b[1m61/61\u001b[0m \u001b[32m━━━━━━━━━━━━━━━━━━━━\u001b[0m\u001b[37m\u001b[0m \u001b[1m0s\u001b[0m 6ms/step - loss: 8.9829e-05 - val_loss: 2.4201e-04\n",
      "Epoch 35/50\n",
      "\u001b[1m61/61\u001b[0m \u001b[32m━━━━━━━━━━━━━━━━━━━━\u001b[0m\u001b[37m\u001b[0m \u001b[1m0s\u001b[0m 5ms/step - loss: 8.9928e-05 - val_loss: 2.4140e-04\n",
      "Epoch 36/50\n",
      "\u001b[1m61/61\u001b[0m \u001b[32m━━━━━━━━━━━━━━━━━━━━\u001b[0m\u001b[37m\u001b[0m \u001b[1m0s\u001b[0m 5ms/step - loss: 8.5903e-05 - val_loss: 2.3340e-04\n",
      "Epoch 37/50\n",
      "\u001b[1m61/61\u001b[0m \u001b[32m━━━━━━━━━━━━━━━━━━━━\u001b[0m\u001b[37m\u001b[0m \u001b[1m0s\u001b[0m 5ms/step - loss: 8.6221e-05 - val_loss: 2.8930e-04\n",
      "Epoch 38/50\n",
      "\u001b[1m61/61\u001b[0m \u001b[32m━━━━━━━━━━━━━━━━━━━━\u001b[0m\u001b[37m\u001b[0m \u001b[1m0s\u001b[0m 6ms/step - loss: 8.3840e-05 - val_loss: 2.3407e-04\n",
      "Epoch 39/50\n",
      "\u001b[1m61/61\u001b[0m \u001b[32m━━━━━━━━━━━━━━━━━━━━\u001b[0m\u001b[37m\u001b[0m \u001b[1m0s\u001b[0m 5ms/step - loss: 9.0491e-05 - val_loss: 2.4277e-04\n",
      "Epoch 40/50\n",
      "\u001b[1m61/61\u001b[0m \u001b[32m━━━━━━━━━━━━━━━━━━━━\u001b[0m\u001b[37m\u001b[0m \u001b[1m0s\u001b[0m 6ms/step - loss: 8.6707e-05 - val_loss: 2.4775e-04\n",
      "Epoch 41/50\n",
      "\u001b[1m61/61\u001b[0m \u001b[32m━━━━━━━━━━━━━━━━━━━━\u001b[0m\u001b[37m\u001b[0m \u001b[1m0s\u001b[0m 7ms/step - loss: 9.3511e-05 - val_loss: 2.2879e-04\n",
      "Epoch 42/50\n",
      "\u001b[1m61/61\u001b[0m \u001b[32m━━━━━━━━━━━━━━━━━━━━\u001b[0m\u001b[37m\u001b[0m \u001b[1m0s\u001b[0m 5ms/step - loss: 8.7607e-05 - val_loss: 2.3460e-04\n",
      "Epoch 43/50\n",
      "\u001b[1m61/61\u001b[0m \u001b[32m━━━━━━━━━━━━━━━━━━━━\u001b[0m\u001b[37m\u001b[0m \u001b[1m0s\u001b[0m 5ms/step - loss: 8.0362e-05 - val_loss: 2.5771e-04\n",
      "Epoch 44/50\n",
      "\u001b[1m61/61\u001b[0m \u001b[32m━━━━━━━━━━━━━━━━━━━━\u001b[0m\u001b[37m\u001b[0m \u001b[1m0s\u001b[0m 5ms/step - loss: 9.9899e-05 - val_loss: 2.5102e-04\n",
      "Epoch 45/50\n",
      "\u001b[1m61/61\u001b[0m \u001b[32m━━━━━━━━━━━━━━━━━━━━\u001b[0m\u001b[37m\u001b[0m \u001b[1m0s\u001b[0m 5ms/step - loss: 7.9610e-05 - val_loss: 2.2707e-04\n",
      "Epoch 46/50\n",
      "\u001b[1m61/61\u001b[0m \u001b[32m━━━━━━━━━━━━━━━━━━━━\u001b[0m\u001b[37m\u001b[0m \u001b[1m0s\u001b[0m 5ms/step - loss: 8.8361e-05 - val_loss: 2.2557e-04\n",
      "Epoch 47/50\n",
      "\u001b[1m61/61\u001b[0m \u001b[32m━━━━━━━━━━━━━━━━━━━━\u001b[0m\u001b[37m\u001b[0m \u001b[1m0s\u001b[0m 5ms/step - loss: 7.2263e-05 - val_loss: 2.8503e-04\n",
      "Epoch 48/50\n",
      "\u001b[1m61/61\u001b[0m \u001b[32m━━━━━━━━━━━━━━━━━━━━\u001b[0m\u001b[37m\u001b[0m \u001b[1m0s\u001b[0m 6ms/step - loss: 8.3482e-05 - val_loss: 2.3900e-04\n",
      "Epoch 49/50\n",
      "\u001b[1m61/61\u001b[0m \u001b[32m━━━━━━━━━━━━━━━━━━━━\u001b[0m\u001b[37m\u001b[0m \u001b[1m0s\u001b[0m 5ms/step - loss: 8.3732e-05 - val_loss: 2.2148e-04\n",
      "Epoch 50/50\n",
      "\u001b[1m61/61\u001b[0m \u001b[32m━━━━━━━━━━━━━━━━━━━━\u001b[0m\u001b[37m\u001b[0m \u001b[1m0s\u001b[0m 5ms/step - loss: 8.9049e-05 - val_loss: 2.2110e-04\n"
     ]
    }
   ],
   "source": [
    "model = build_model(X_train, y_train, verbose=1)"
   ]
  },
  {
   "cell_type": "code",
   "execution_count": 15,
   "id": "d5f2c290-6459-481d-9663-a6eb46fc13fc",
   "metadata": {},
   "outputs": [
    {
     "name": "stdout",
     "output_type": "stream",
     "text": [
      "\u001b[1m22/22\u001b[0m \u001b[32m━━━━━━━━━━━━━━━━━━━━\u001b[0m\u001b[37m\u001b[0m \u001b[1m0s\u001b[0m 4ms/step - loss: 1.4436e-04\n",
      "Test Loss: 0.0002042904670815915\n"
     ]
    }
   ],
   "source": [
    "# Evaluate the model\n",
    "loss = model.evaluate(X_test, y_test)\n",
    "print(f'Test Loss: {loss}')"
   ]
  },
  {
   "cell_type": "code",
   "execution_count": 16,
   "id": "ec8ce0ea-bb32-446a-b2b6-5156585ca536",
   "metadata": {},
   "outputs": [
    {
     "name": "stdout",
     "output_type": "stream",
     "text": [
      "\u001b[1m22/22\u001b[0m \u001b[32m━━━━━━━━━━━━━━━━━━━━\u001b[0m\u001b[37m\u001b[0m \u001b[1m0s\u001b[0m 7ms/step\n"
     ]
    }
   ],
   "source": [
    "# Make predictions\n",
    "predictions_scaled = model.predict(X_test)"
   ]
  },
  {
   "cell_type": "code",
   "execution_count": 17,
   "id": "32ffab06-18d0-40f1-89df-59798308cc46",
   "metadata": {},
   "outputs": [],
   "source": [
    "# reshape predictions\n",
    "predictions_reshaped = predictions_scaled.reshape(-1, 1)"
   ]
  },
  {
   "cell_type": "code",
   "execution_count": 18,
   "id": "1f99451b-c422-4c06-992f-b50fec34c6f6",
   "metadata": {},
   "outputs": [],
   "source": [
    "predictions = scaler.inverse_transform(predictions_reshaped)"
   ]
  },
  {
   "cell_type": "code",
   "execution_count": 19,
   "id": "2f2fd29b-bbcd-4afa-9caf-afe1784818ce",
   "metadata": {},
   "outputs": [],
   "source": [
    "actuals = scaler.inverse_transform(y_test)"
   ]
  },
  {
   "cell_type": "code",
   "execution_count": 20,
   "id": "9ac62ddf-fb43-4f43-ab70-0dfcafe3c623",
   "metadata": {},
   "outputs": [
    {
     "name": "stdout",
     "output_type": "stream",
     "text": [
      "MSE: 2.525230123917268\n",
      "MAE: 1.1182864207141796\n",
      "RMSE: 1.5890972669781005\n"
     ]
    }
   ],
   "source": [
    "# Calculate Error Metrics\n",
    "from sklearn.metrics import mean_squared_error, mean_absolute_error\n",
    "\n",
    "# Calculate errors\n",
    "mse = mean_squared_error(actuals, predictions)\n",
    "mae = mean_absolute_error(actuals, predictions)\n",
    "rmse = np.sqrt(mse)\n",
    "\n",
    "print(f'MSE: {mse}')\n",
    "print(f'MAE: {mae}')\n",
    "print(f'RMSE: {rmse}')"
   ]
  },
  {
   "cell_type": "code",
   "execution_count": 21,
   "id": "acaab433-b4bb-4152-8eac-0927bde94e8b",
   "metadata": {},
   "outputs": [
    {
     "name": "stdout",
     "output_type": "stream",
     "text": [
      "[228.81903]\n",
      "[230.40812803]\n"
     ]
    }
   ],
   "source": [
    "print(predictions[0])\n",
    "predictions_add_rmse = predictions + rmse\n",
    "print(predictions_add_rmse[0])"
   ]
  },
  {
   "cell_type": "code",
   "execution_count": 22,
   "id": "85c5fb0d-9e9e-42af-8ec7-368c0a34cb5a",
   "metadata": {},
   "outputs": [],
   "source": [
    "def plot_actual_vs_predicted(actuals, predictions_add_rmse):\n",
    "    # Plot Predictions vs Actual values\n",
    "    plt.figure(figsize=(10,6))\n",
    "    plt.plot(actuals, label='Actual', color=\"green\")\n",
    "    plt.plot(predictions_add_rmse, label='Predicted', color=\"blue\")\n",
    "    plt.grid(True)\n",
    "    plt.title('Actual vs Predicted')\n",
    "    plt.xlabel('Sequential Day Number')\n",
    "    plt.ylabel('Price')\n",
    "    plt.legend()\n",
    "    plt.show()"
   ]
  },
  {
   "cell_type": "code",
   "execution_count": 23,
   "id": "2fe935dc-867e-4269-b725-fe93f365ddb6",
   "metadata": {},
   "outputs": [
    {
     "data": {
      "image/png": "[encoded data removed]",
      "text/plain": [
       "<Figure size 1000x600 with 1 Axes>"
      ]
     },
     "metadata": {},
     "output_type": "display_data"
    }
   ],
   "source": [
    "plot_actual_vs_predicted(\n",
    "    actuals=actuals, \n",
    "    predictions_add_rmse=predictions_add_rmse\n",
    ")"
   ]
  },
  {
   "cell_type": "code",
   "execution_count": 24,
   "id": "f711f4cc-1647-4a4a-a34d-43628d21c6ed",
   "metadata": {},
   "outputs": [],
   "source": [
    "def plot_error_distribution(actuals, predictions_add_rmse):\n",
    "    # Plot Error Distribution\n",
    "    errors = actuals - predictions_add_rmse\n",
    "    plt.figure(figsize=(10,6))\n",
    "    plt.hist(errors, bins=50)\n",
    "    plt.title('Prediction Error Distribution')\n",
    "    plt.xlabel('Error')\n",
    "    plt.ylabel('Frequency')\n",
    "    plt.show()"
   ]
  },
  {
   "cell_type": "code",
   "execution_count": 25,
   "id": "d2451761-4b91-4730-86c3-3726ddc1abcd",
   "metadata": {},
   "outputs": [
    {
     "data": {
      "image/png": "[encoded data removed]",
      "text/plain": [
       "<Figure size 1000x600 with 1 Axes>"
      ]
     },
     "metadata": {},
     "output_type": "display_data"
    }
   ],
   "source": [
    "plot_error_distribution(\n",
    "    actuals=actuals, \n",
    "    predictions_add_rmse=predictions_add_rmse\n",
    ")"
   ]
  },
  {
   "cell_type": "code",
   "execution_count": 26,
   "id": "ac843894-1b75-48f1-91ad-f2e70607fe75",
   "metadata": {},
   "outputs": [],
   "source": [
    "states = []\n",
    "\n",
    "for index in range(1, len(predictions_add_rmse)):\n",
    "    prev_actual = actuals[index-1][0]\n",
    "    current_actual = actuals[index][0]\n",
    "    actual_state = \"Equal\"\n",
    "    if current_actual > prev_actual:\n",
    "        actual_state = \"Up\"\n",
    "    elif current_actual < prev_actual:\n",
    "        actual_state = \"Down\"\n",
    "    \n",
    "    prev_prediction = predictions_add_rmse[index-1][0]\n",
    "    current_prediction = predictions_add_rmse[index][0]\n",
    "    prediction_state = \"Equal\"\n",
    "    if current_prediction > prev_prediction:\n",
    "        prediction_state = \"Up\"\n",
    "    elif current_prediction < prev_prediction:\n",
    "        prediction_state = \"Down\"\n",
    "\n",
    "    state = {\n",
    "        \"prev_actual\": prev_actual,\n",
    "        \"actual_state\": actual_state,\n",
    "        \"current_actual\": current_actual,\n",
    "\n",
    "        \"prev_prediction\": prev_prediction,\n",
    "        \"prediction_state\": prediction_state,\n",
    "        \"current_prediction\": current_prediction,\n",
    "    }\n",
    "    states.append(state)"
   ]
  },
  {
   "cell_type": "code",
   "execution_count": 27,
   "id": "78f4395a-c564-4796-b91f-ac410c7d5824",
   "metadata": {},
   "outputs": [
    {
     "name": "stdout",
     "output_type": "stream",
     "text": [
      "correctly_predicted = 358 --> winning\n",
      "up_predicted_actual_down = 169 --> Losing if buying\n",
      "up_predicted_actual_equal = 1 --> Break even if buying\n",
      "down_predicted_actual_up = 159 --> Losing if selling\n",
      "down_predicted_actual_equal = 1 --> Losing if selling\n",
      "\n",
      "Final Account Balance: 102.52356954337175\n",
      "Final Stock Value: 0\n"
     ]
    }
   ],
   "source": [
    "correctly_predicted = 0\n",
    "up_predicted_actual_down = 0\n",
    "up_predicted_actual_equal = 0\n",
    "down_predicted_actual_up = 0\n",
    "down_predicted_actual_equal = 0\n",
    "\n",
    "def simulate_buy(stock_value, account_balance, current_price):\n",
    "    units_afforded = account_balance/current_price\n",
    "    buy_amount = units_afforded*current_price\n",
    "    new_account_balance = account_balance - buy_amount\n",
    "    new_stock_value = stock_value + units_afforded\n",
    "    return new_account_balance, new_stock_value\n",
    "\n",
    "def simulate_sell(stock_value, account_balance, current_price):\n",
    "    after_sale_amount = stock_value*current_price\n",
    "    new_stock_value = 0\n",
    "    new_account_balance = account_balance + after_sale_amount\n",
    "    return new_account_balance, new_stock_value\n",
    "    \n",
    "stock_value, account_balance = 0, 100\n",
    "for index in range(len(states)):\n",
    "    actual_state = states[index][\"actual_state\"]\n",
    "    prediction_state = states[index][\"prediction_state\"]\n",
    "    \n",
    "    if actual_state == prediction_state and prediction_state == \"Up\":\n",
    "        correctly_predicted += 1\n",
    "        # Buy (Should win money)\n",
    "        account_balance, stock_value = simulate_buy(\n",
    "            stock_value=stock_value, \n",
    "            account_balance=account_balance, \n",
    "            current_price=states[index][\"prev_actual\"]\n",
    "        )\n",
    "        \n",
    "    elif actual_state == prediction_state and prediction_state == \"Down\":\n",
    "        correctly_predicted += 1\n",
    "        # Sell (Should win money)\n",
    "        account_balance, stock_value = simulate_sell(\n",
    "            stock_value=stock_value, \n",
    "            account_balance=account_balance, \n",
    "            current_price=states[index][\"prev_actual\"]\n",
    "        )\n",
    "\n",
    "    elif actual_state == prediction_state and actual_state == \"Equal\":\n",
    "        correctly_predicted += 1\n",
    "        # do nothing\n",
    "        \n",
    "    elif actual_state != prediction_state:\n",
    "        if prediction_state == \"Up\" and actual_state == \"Down\":\n",
    "            up_predicted_actual_down += 1\n",
    "            # Sell (Should lose money)\n",
    "            account_balance, stock_value = simulate_buy(\n",
    "                stock_value=stock_value, \n",
    "                account_balance=account_balance, \n",
    "                current_price=states[index][\"prev_actual\"]\n",
    "            )\n",
    "            \n",
    "        elif prediction_state == \"Up\" and actual_state == \"Equal\":\n",
    "            up_predicted_actual_equal += 1\n",
    "            # Buy (No effect)\n",
    "            account_balance, stock_value = simulate_buy(\n",
    "                stock_value=stock_value, \n",
    "                account_balance=account_balance, \n",
    "                current_price=states[index][\"prev_actual\"]\n",
    "            )\n",
    "            \n",
    "        elif prediction_state == \"Down\" and actual_state == \"Up\":\n",
    "            down_predicted_actual_up += 1\n",
    "            # Sell (Should lose money)\n",
    "            account_balance, stock_value = simulate_sell(\n",
    "                stock_value=stock_value, \n",
    "                account_balance=account_balance, \n",
    "                current_price=states[index][\"prev_actual\"]\n",
    "            )\n",
    "\n",
    "        elif prediction_state == \"Down\" and actual_state == \"Equal\":\n",
    "            down_predicted_actual_equal += 1\n",
    "            # Sell (Should lose money or no effect)\n",
    "            account_balance, stock_value = simulate_sell(\n",
    "                stock_value=stock_value, \n",
    "                account_balance=account_balance, \n",
    "                current_price=states[index][\"prev_actual\"]\n",
    "            )\n",
    "\n",
    "print(f\"{correctly_predicted = } --> winning\")\n",
    "print(f\"{up_predicted_actual_down = } --> Losing if buying\")\n",
    "print(f\"{up_predicted_actual_equal = } --> Break even if buying\")\n",
    "print(f\"{down_predicted_actual_up = } --> Losing if selling\")\n",
    "print(f\"{down_predicted_actual_equal = } --> Losing if selling\")\n",
    "print()\n",
    "\n",
    "account_balance, stock_value = simulate_sell(\n",
    "    stock_value=stock_value, \n",
    "    account_balance=account_balance, \n",
    "    current_price=states[index][\"prev_actual\"]\n",
    ")\n",
    "\n",
    "print(f\"Final Account Balance: {account_balance}\")\n",
    "print(f\"Final Stock Value: {stock_value}\")"
   ]
  },
  {
   "cell_type": "code",
   "execution_count": 28,
   "id": "c94bad09-5709-47fb-ae50-e3ac16bc81f6",
   "metadata": {},
   "outputs": [
    {
     "name": "stdout",
     "output_type": "stream",
     "text": [
      "Number of trading hours: 688\n",
      "Number of trading days: 114.67\n"
     ]
    }
   ],
   "source": [
    "sum_of_trading_hours = correctly_predicted+up_predicted_actual_down+up_predicted_actual_equal+down_predicted_actual_up+down_predicted_actual_equal\n",
    "\n",
    "print(f\"Number of trading hours: {sum_of_trading_hours}\")\n",
    "print(f\"Number of trading days: {sum_of_trading_hours/6:.2f}\")"
   ]
  },
  {
   "cell_type": "code",
   "execution_count": 29,
   "id": "748be335-a083-43ad-8d2a-349871fda1b8",
   "metadata": {},
   "outputs": [
    {
     "name": "stdout",
     "output_type": "stream",
     "text": [
      "Accuracy: 52.03\n"
     ]
    }
   ],
   "source": [
    "accuracy = (correctly_predicted/(sum_of_trading_hours))*100\n",
    "\n",
    "print(f\"Accuracy: {accuracy:.2f}\")"
   ]
  },
  {
   "cell_type": "markdown",
   "id": "b9a29558-85ca-4f30-8598-8f7d544845dd",
   "metadata": {},
   "source": [
    "### VI - Simulating to buy at simulation start and sell at simulation end"
   ]
  },
  {
   "cell_type": "code",
   "execution_count": 30,
   "id": "33e813e3-03dd-4e4b-85a8-d9192efe8b20",
   "metadata": {},
   "outputs": [
    {
     "name": "stdout",
     "output_type": "stream",
     "text": [
      "Final Account Balance: 103.01931470928993\n",
      "Final Stock Value: 0\n"
     ]
    }
   ],
   "source": [
    "stock_value, account_balance = 0, 100\n",
    "\n",
    "account_balance, stock_value = simulate_buy(\n",
    "    stock_value=stock_value, \n",
    "    account_balance=account_balance, \n",
    "    current_price=states[0][\"prev_actual\"]\n",
    ")\n",
    "\n",
    "account_balance, stock_value = simulate_sell(\n",
    "    stock_value=stock_value, \n",
    "    account_balance=account_balance, \n",
    "    current_price=states[len(states)-1]['current_actual']\n",
    ")\n",
    "\n",
    "print(f\"Final Account Balance: {account_balance}\")\n",
    "print(f\"Final Stock Value: {stock_value}\")"
   ]
  }
 ],
 "metadata": {
  "kernelspec": {
   "display_name": "Python 3 (ipykernel)",
   "language": "python",
   "name": "python3"
  },
  "language_info": {
   "codemirror_mode": {
    "name": "ipython",
    "version": 3
   },
   "file_extension": ".py",
   "mimetype": "text/x-python",
   "name": "python",
   "nbconvert_exporter": "python",
   "pygments_lexer": "ipython3",
   "version": "3.12.4"
  }
 },
 "nbformat": 4,
 "nbformat_minor": 5
}
