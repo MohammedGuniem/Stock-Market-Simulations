{
 "cells": [
  {
   "cell_type": "code",
   "execution_count": 1,
   "id": "f0f93d1f-dce1-422f-87bb-7407af9e50c4",
   "metadata": {},
   "outputs": [],
   "source": [
    "import matplotlib.pyplot as plt\n",
    "from datetime import datetime\n",
    "import yfinance as yf\n",
    "import seaborn as sns\n",
    "import pandas as pd\n",
    "import numpy as np\n",
    "import os"
   ]
  },
  {
   "cell_type": "code",
   "execution_count": 2,
   "id": "39210d2a-c8de-4232-a5c3-bf5bbd0b4712",
   "metadata": {},
   "outputs": [
    {
     "name": "stdout",
     "output_type": "stream",
     "text": [
      "YF.download() has changed argument auto_adjust default to True\n"
     ]
    },
    {
     "name": "stderr",
     "output_type": "stream",
     "text": [
      "[*********************100%***********************]  1 of 1 completed\n"
     ]
    }
   ],
   "source": [
    "# Download historical stock data for a specific ticker\n",
    "ticker = 'AAPL'\n",
    "\n",
    "# Get today's date in the format \"YYYY-MM-DD\"\n",
    "today = datetime.today().strftime('%Y-%m-%d')\n",
    "\n",
    "stock_data = yf.download(ticker, start='1980-12-12', end=today)"
   ]
  },
  {
   "cell_type": "code",
   "execution_count": 3,
   "id": "5f20966b-0abd-4538-8d17-e795e24f2956",
   "metadata": {},
   "outputs": [
    {
     "data": {
      "text/html": [
       "<div>\n",
       "<style scoped>\n",
       "    .dataframe tbody tr th:only-of-type {\n",
       "        vertical-align: middle;\n",
       "    }\n",
       "\n",
       "    .dataframe tbody tr th {\n",
       "        vertical-align: top;\n",
       "    }\n",
       "\n",
       "    .dataframe thead tr th {\n",
       "        text-align: left;\n",
       "    }\n",
       "\n",
       "    .dataframe thead tr:last-of-type th {\n",
       "        text-align: right;\n",
       "    }\n",
       "</style>\n",
       "<table border=\"1\" class=\"dataframe\">\n",
       "  <thead>\n",
       "    <tr>\n",
       "      <th>Price</th>\n",
       "      <th>Close</th>\n",
       "      <th>High</th>\n",
       "      <th>Low</th>\n",
       "      <th>Open</th>\n",
       "      <th>Volume</th>\n",
       "    </tr>\n",
       "    <tr>\n",
       "      <th>Ticker</th>\n",
       "      <th>AAPL</th>\n",
       "      <th>AAPL</th>\n",
       "      <th>AAPL</th>\n",
       "      <th>AAPL</th>\n",
       "      <th>AAPL</th>\n",
       "    </tr>\n",
       "    <tr>\n",
       "      <th>Date</th>\n",
       "      <th></th>\n",
       "      <th></th>\n",
       "      <th></th>\n",
       "      <th></th>\n",
       "      <th></th>\n",
       "    </tr>\n",
       "  </thead>\n",
       "  <tbody>\n",
       "    <tr>\n",
       "      <th>1980-12-12</th>\n",
       "      <td>0.098726</td>\n",
       "      <td>0.099155</td>\n",
       "      <td>0.098726</td>\n",
       "      <td>0.098726</td>\n",
       "      <td>469033600</td>\n",
       "    </tr>\n",
       "    <tr>\n",
       "      <th>1980-12-15</th>\n",
       "      <td>0.093575</td>\n",
       "      <td>0.094005</td>\n",
       "      <td>0.093575</td>\n",
       "      <td>0.094005</td>\n",
       "      <td>175884800</td>\n",
       "    </tr>\n",
       "    <tr>\n",
       "      <th>1980-12-16</th>\n",
       "      <td>0.086707</td>\n",
       "      <td>0.087136</td>\n",
       "      <td>0.086707</td>\n",
       "      <td>0.087136</td>\n",
       "      <td>105728000</td>\n",
       "    </tr>\n",
       "    <tr>\n",
       "      <th>1980-12-17</th>\n",
       "      <td>0.088853</td>\n",
       "      <td>0.089282</td>\n",
       "      <td>0.088853</td>\n",
       "      <td>0.088853</td>\n",
       "      <td>86441600</td>\n",
       "    </tr>\n",
       "    <tr>\n",
       "      <th>1980-12-18</th>\n",
       "      <td>0.091429</td>\n",
       "      <td>0.091858</td>\n",
       "      <td>0.091429</td>\n",
       "      <td>0.091429</td>\n",
       "      <td>73449600</td>\n",
       "    </tr>\n",
       "    <tr>\n",
       "      <th>...</th>\n",
       "      <td>...</td>\n",
       "      <td>...</td>\n",
       "      <td>...</td>\n",
       "      <td>...</td>\n",
       "      <td>...</td>\n",
       "    </tr>\n",
       "    <tr>\n",
       "      <th>2025-03-19</th>\n",
       "      <td>215.240005</td>\n",
       "      <td>218.759995</td>\n",
       "      <td>213.750000</td>\n",
       "      <td>214.220001</td>\n",
       "      <td>54385400</td>\n",
       "    </tr>\n",
       "    <tr>\n",
       "      <th>2025-03-20</th>\n",
       "      <td>214.100006</td>\n",
       "      <td>217.490005</td>\n",
       "      <td>212.220001</td>\n",
       "      <td>213.990005</td>\n",
       "      <td>48862900</td>\n",
       "    </tr>\n",
       "    <tr>\n",
       "      <th>2025-03-21</th>\n",
       "      <td>218.270004</td>\n",
       "      <td>218.839996</td>\n",
       "      <td>211.279999</td>\n",
       "      <td>211.559998</td>\n",
       "      <td>94127800</td>\n",
       "    </tr>\n",
       "    <tr>\n",
       "      <th>2025-03-24</th>\n",
       "      <td>220.729996</td>\n",
       "      <td>221.479996</td>\n",
       "      <td>218.580002</td>\n",
       "      <td>221.000000</td>\n",
       "      <td>44299500</td>\n",
       "    </tr>\n",
       "    <tr>\n",
       "      <th>2025-03-25</th>\n",
       "      <td>223.750000</td>\n",
       "      <td>224.100006</td>\n",
       "      <td>220.080002</td>\n",
       "      <td>220.770004</td>\n",
       "      <td>34455800</td>\n",
       "    </tr>\n",
       "  </tbody>\n",
       "</table>\n",
       "<p>11161 rows × 5 columns</p>\n",
       "</div>"
      ],
      "text/plain": [
       "Price            Close        High         Low        Open     Volume\n",
       "Ticker            AAPL        AAPL        AAPL        AAPL       AAPL\n",
       "Date                                                                 \n",
       "1980-12-12    0.098726    0.099155    0.098726    0.098726  469033600\n",
       "1980-12-15    0.093575    0.094005    0.093575    0.094005  175884800\n",
       "1980-12-16    0.086707    0.087136    0.086707    0.087136  105728000\n",
       "1980-12-17    0.088853    0.089282    0.088853    0.088853   86441600\n",
       "1980-12-18    0.091429    0.091858    0.091429    0.091429   73449600\n",
       "...                ...         ...         ...         ...        ...\n",
       "2025-03-19  215.240005  218.759995  213.750000  214.220001   54385400\n",
       "2025-03-20  214.100006  217.490005  212.220001  213.990005   48862900\n",
       "2025-03-21  218.270004  218.839996  211.279999  211.559998   94127800\n",
       "2025-03-24  220.729996  221.479996  218.580002  221.000000   44299500\n",
       "2025-03-25  223.750000  224.100006  220.080002  220.770004   34455800\n",
       "\n",
       "[11161 rows x 5 columns]"
      ]
     },
     "metadata": {},
     "output_type": "display_data"
    }
   ],
   "source": [
    "display(stock_data)"
   ]
  },
  {
   "cell_type": "code",
   "execution_count": 4,
   "id": "8e9206da-ff39-4145-83ff-ed5ff93d6dce",
   "metadata": {},
   "outputs": [],
   "source": [
    "stock_close_prices = stock_data['Close']"
   ]
  },
  {
   "cell_type": "code",
   "execution_count": 5,
   "id": "35b7e00b-9916-4dd9-835f-4c4197a7906e",
   "metadata": {},
   "outputs": [],
   "source": [
    "def evaluate_trade_period(prices, period_length):\n",
    "    prices_values = stock_close_prices.values\n",
    "    result_list = []\n",
    "    for i in range(0, len(prices_values)-period_length+1, 1):\n",
    "        buy_price = prices_values[i][0]\n",
    "        sell_price = prices_values[i+period_length-1][0]\n",
    "        result_list.append(float(sell_price-buy_price))\n",
    "        \n",
    "    return result_list"
   ]
  },
  {
   "cell_type": "code",
   "execution_count": 6,
   "id": "0a6408bd-7272-46d7-a2fb-37412f1f0eea",
   "metadata": {},
   "outputs": [
    {
     "name": "stdout",
     "output_type": "stream",
     "text": [
      "Ticker            AAPL\n",
      "Date                  \n",
      "1980-12-12    0.098726\n",
      "1980-12-15    0.093575\n",
      "1980-12-16    0.086707\n",
      "1980-12-17    0.088853\n",
      "1980-12-18    0.091429\n",
      "...                ...\n",
      "2025-03-19  215.240005\n",
      "2025-03-20  214.100006\n",
      "2025-03-21  218.270004\n",
      "2025-03-24  220.729996\n",
      "2025-03-25  223.750000\n",
      "\n",
      "[11161 rows x 1 columns]\n",
      "sum(result_list) = 200221.33676878363\n"
     ]
    }
   ],
   "source": [
    "result_list = evaluate_trade_period(stock_close_prices, period_length=1258)\n",
    "print(stock_close_prices)\n",
    "print(f\"{sum(result_list) = }\")"
   ]
  },
  {
   "cell_type": "code",
   "execution_count": 7,
   "id": "1dc2221a-8455-411f-8f04-5c9cb7f8b3e4",
   "metadata": {},
   "outputs": [],
   "source": [
    "period_lengths, corresponding_results = [], []\n",
    "for i in range(1, len(stock_close_prices)+1, 1):\n",
    "    result_list = evaluate_trade_period(stock_close_prices, period_length=i)\n",
    "    period_lengths.append(i)\n",
    "    corresponding_results.append(sum(result_list))"
   ]
  },
  {
   "cell_type": "code",
   "execution_count": 8,
   "id": "fa844393-030b-4c90-97a7-e5d86139ec71",
   "metadata": {},
   "outputs": [
    {
     "data": {
      "image/png": "[encoded data removed]",
      "text/plain": [
       "<Figure size 640x480 with 1 Axes>"
      ]
     },
     "metadata": {},
     "output_type": "display_data"
    }
   ],
   "source": [
    "import matplotlib.pyplot as plt\n",
    "\n",
    "# Creating the plot\n",
    "plt.plot(period_lengths, corresponding_results)\n",
    "\n",
    "# Adding title and labels\n",
    "plt.title(\"Sample 2D Plot\")\n",
    "plt.xlabel(\"Length of Stay in Market\")\n",
    "plt.ylabel(\"Result\")\n",
    "\n",
    "# Enabling grid\n",
    "plt.grid(True)\n",
    "\n",
    "# Finding the maximum y value and its corresponding x\n",
    "max_y = max(corresponding_results)\n",
    "max_x = period_lengths[corresponding_results.index(max_y)]\n",
    "\n",
    "# Plotting the maximum y value\n",
    "plt.plot(max_x, max_y, 'ro')  # 'ro' stands for red circle marker\n",
    "\n",
    "# Annotating the maximum y value and corresponding x value\n",
    "plt.annotate(f'Max y = {max_y} at x = {max_x}', \n",
    "             (max_x, max_y), \n",
    "             textcoords=\"offset points\", \n",
    "             xytext=(0, 10), \n",
    "             ha='center')\n",
    "\n",
    "# Display the plot\n",
    "plt.show()"
   ]
  }
 ],
 "metadata": {
  "kernelspec": {
   "display_name": "Python 3 (ipykernel)",
   "language": "python",
   "name": "python3"
  },
  "language_info": {
   "codemirror_mode": {
    "name": "ipython",
    "version": 3
   },
   "file_extension": ".py",
   "mimetype": "text/x-python",
   "name": "python",
   "nbconvert_exporter": "python",
   "pygments_lexer": "ipython3",
   "version": "3.12.4"
  }
 },
 "nbformat": 4,
 "nbformat_minor": 5
}
